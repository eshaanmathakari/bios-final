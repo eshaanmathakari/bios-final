{
 "cells": [
  {
   "cell_type": "code",
   "execution_count": null,
   "metadata": {},
   "outputs": [],
   "source": [
    "pip install kagglehub"
   ]
  },
  {
   "cell_type": "code",
   "execution_count": 1,
   "metadata": {},
   "outputs": [
    {
     "name": "stdout",
     "output_type": "stream",
     "text": [
      "Found 9208 images in the dataset.\n",
      "Dataset successfully loaded from local repository.\n"
     ]
    }
   ],
   "source": [
    "import os\n",
    "from PIL import Image\n",
    "import glob\n",
    "\n",
    "# Specify the path to the dataset in your local repository\n",
    "dataset_path = '/Users/apple/Desktop/PG/SEM-3/BIOS-511/bios-final/data'\n",
    "\n",
    "# Check if the directory exists\n",
    "if not os.path.exists(dataset_path):\n",
    "    raise FileNotFoundError(f\"The specified path {dataset_path} does not exist.\")\n",
    "\n",
    "# List all image files in the directory (assuming jpg and png images)\n",
    "image_files = glob.glob(os.path.join(dataset_path, '**/*.jpg'), recursive=True)\n",
    "image_files += glob.glob(os.path.join(dataset_path, '**/*.png'), recursive=True)\n",
    "\n",
    "# Check if images are found\n",
    "if not image_files:\n",
    "    print(\"No images found in the specified directory.\")\n",
    "else:\n",
    "    print(f\"Found {len(image_files)} images in the dataset.\")\n",
    "\n",
    "# Load and display a sample image to confirm the dataset is accessible\n",
    "sample_image = Image.open(image_files[0])\n",
    "sample_image.show()  # Opens the first image in your default image viewer\n",
    "\n",
    "# Optional: Load all images (for further processing)\n",
    "images = [Image.open(img_path) for img_path in image_files]\n",
    "\n",
    "print(\"Dataset successfully loaded from local repository.\")\n"
   ]
  },
  {
   "cell_type": "code",
   "execution_count": null,
   "metadata": {},
   "outputs": [],
   "source": []
  },
  {
   "cell_type": "code",
   "execution_count": null,
   "metadata": {},
   "outputs": [],
   "source": []
  }
 ],
 "metadata": {
  "kernelspec": {
   "display_name": "Python 3",
   "language": "python",
   "name": "python3"
  },
  "language_info": {
   "codemirror_mode": {
    "name": "ipython",
    "version": 3
   },
   "file_extension": ".py",
   "mimetype": "text/x-python",
   "name": "python",
   "nbconvert_exporter": "python",
   "pygments_lexer": "ipython3",
   "version": "3.9.6"
  }
 },
 "nbformat": 4,
 "nbformat_minor": 2
}
