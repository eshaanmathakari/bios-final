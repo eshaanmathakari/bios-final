{
 "cells": [
  {
   "cell_type": "code",
   "execution_count": 1,
   "metadata": {},
   "outputs": [
    {
     "name": "stdout",
     "output_type": "stream",
     "text": [
      "Defaulting to user installation because normal site-packages is not writeable\n",
      "Requirement already satisfied: kagglehub in /Users/apple/Library/Python/3.9/lib/python/site-packages (0.3.4)\n",
      "Requirement already satisfied: packaging in /Users/apple/Library/Python/3.9/lib/python/site-packages (from kagglehub) (24.0)\n",
      "Requirement already satisfied: requests in /Users/apple/Library/Python/3.9/lib/python/site-packages (from kagglehub) (2.32.3)\n",
      "Requirement already satisfied: tqdm in /Users/apple/Library/Python/3.9/lib/python/site-packages (from kagglehub) (4.66.2)\n",
      "Requirement already satisfied: charset-normalizer<4,>=2 in /Users/apple/Library/Python/3.9/lib/python/site-packages (from requests->kagglehub) (3.3.2)\n",
      "Requirement already satisfied: idna<4,>=2.5 in /Users/apple/Library/Python/3.9/lib/python/site-packages (from requests->kagglehub) (2.10)\n",
      "Requirement already satisfied: urllib3<3,>=1.21.1 in /Users/apple/Library/Python/3.9/lib/python/site-packages (from requests->kagglehub) (1.26.19)\n",
      "Requirement already satisfied: certifi>=2017.4.17 in /Users/apple/Library/Python/3.9/lib/python/site-packages (from requests->kagglehub) (2024.2.2)\n",
      "\n",
      "\u001b[1m[\u001b[0m\u001b[34;49mnotice\u001b[0m\u001b[1;39;49m]\u001b[0m\u001b[39;49m A new release of pip is available: \u001b[0m\u001b[31;49m24.0\u001b[0m\u001b[39;49m -> \u001b[0m\u001b[32;49m24.3.1\u001b[0m\n",
      "\u001b[1m[\u001b[0m\u001b[34;49mnotice\u001b[0m\u001b[1;39;49m]\u001b[0m\u001b[39;49m To update, run: \u001b[0m\u001b[32;49m/Library/Developer/CommandLineTools/usr/bin/python3 -m pip install --upgrade pip\u001b[0m\n",
      "Note: you may need to restart the kernel to use updated packages.\n"
     ]
    }
   ],
   "source": [
    "pip install kagglehub"
   ]
  },
  {
   "cell_type": "markdown",
   "metadata": {},
   "source": [
    "## Importing dataset"
   ]
  },
  {
   "cell_type": "code",
   "execution_count": 1,
   "metadata": {},
   "outputs": [
    {
     "name": "stdout",
     "output_type": "stream",
     "text": [
      "Found 9208 images in the dataset.\n",
      "Dataset successfully loaded from local repository.\n"
     ]
    }
   ],
   "source": [
    "import os\n",
    "from PIL import Image\n",
    "import glob\n",
    "\n",
    "# Specify the path to the dataset in your local repository\n",
    "dataset_path = '/Users/apple/Desktop/PG/SEM-3/BIOS-511/bios-final/data'\n",
    "\n",
    "# Check if the directory exists\n",
    "if not os.path.exists(dataset_path):\n",
    "    raise FileNotFoundError(f\"The specified path {dataset_path} does not exist.\")\n",
    "\n",
    "# List all image files in the directory (assuming jpg and png images)\n",
    "image_files = glob.glob(os.path.join(dataset_path, '**/*.jpg'), recursive=True)\n",
    "image_files += glob.glob(os.path.join(dataset_path, '**/*.png'), recursive=True)\n",
    "\n",
    "# Check if images are found\n",
    "if not image_files:\n",
    "    print(\"No images found in the specified directory.\")\n",
    "else:\n",
    "    print(f\"Found {len(image_files)} images in the dataset.\")\n",
    "\n",
    "# Load and display a sample image to confirm the dataset is accessible\n",
    "sample_image = Image.open(image_files[0])\n",
    "sample_image.show()  # Opens the first image in your default image viewer\n",
    "\n",
    "# Optional: Load all images (for further processing)\n",
    "images = [Image.open(img_path) for img_path in image_files]\n",
    "\n",
    "print(\"Dataset successfully loaded from local repository.\")\n"
   ]
  },
  {
   "cell_type": "code",
   "execution_count": 2,
   "metadata": {},
   "outputs": [],
   "source": [
    "import os\n",
    "import shutil\n",
    "import random\n",
    "import numpy as np\n",
    "from sklearn.model_selection import train_test_split\n",
    "from tensorflow.keras.preprocessing.image import ImageDataGenerator"
   ]
  },
  {
   "cell_type": "code",
   "execution_count": 9,
   "metadata": {},
   "outputs": [],
   "source": [
    "dataset_path = '/Users/apple/Desktop/PG/SEM-3/BIOS-511/bios-final/data'\n",
    "output_path = '/Users/apple/Desktop/PG/SEM-3/BIOS-511/bios-final/processed_data'\n",
    "\n",
    "if not os.path.exists(output_path):\n",
    "    os.makedirs(output_path)"
   ]
  },
  {
   "cell_type": "markdown",
   "metadata": {},
   "source": [
    "## Finetuning and Augmenting Dataset"
   ]
  },
  {
   "cell_type": "code",
   "execution_count": 10,
   "metadata": {},
   "outputs": [],
   "source": [
    "classes = ['Normal', 'Pneumonia-Bacterial', 'Pneumonia-Viral', 'COVID-19']"
   ]
  },
  {
   "cell_type": "code",
   "execution_count": 11,
   "metadata": {},
   "outputs": [
    {
     "name": "stdout",
     "output_type": "stream",
     "text": [
      "Class counts before balancing: {'Normal': 3270, 'Pneumonia-Bacterial': 3001, 'Pneumonia-Viral': 1656, 'COVID-19': 1281}\n"
     ]
    }
   ],
   "source": [
    "class_counts = {}\n",
    "for cls in classes:\n",
    "    class_dir = os.path.join(dataset_path, cls)\n",
    "    class_counts[cls] = len(os.listdir(class_dir))\n",
    "\n",
    "max_count = max(class_counts.values())\n",
    "print(\"Class counts before balancing:\", class_counts)"
   ]
  },
  {
   "cell_type": "code",
   "execution_count": 12,
   "metadata": {},
   "outputs": [],
   "source": [
    "def augment_images(image_paths, num_new_images, save_dir):\n",
    "    datagen = ImageDataGenerator(\n",
    "        rotation_range=15,\n",
    "        width_shift_range=0.05,\n",
    "        height_shift_range=0.05,\n",
    "        shear_range=0.05,\n",
    "        zoom_range=0.05,\n",
    "        horizontal_flip=True,\n",
    "        fill_mode='nearest'\n",
    "    )\n",
    "\n",
    "    num_generated = 0\n",
    "    while num_generated < num_new_images:\n",
    "        for img_path in image_paths:\n",
    "            img = Image.open(img_path)\n",
    "            img = img.resize((224, 224))\n",
    "            x = np.array(img)\n",
    "            x = x.reshape((1,) + x.shape)\n",
    "\n",
    "            prefix = os.path.splitext(os.path.basename(img_path))[0]\n",
    "            for batch in datagen.flow(x, batch_size=1, save_to_dir=save_dir, save_prefix=prefix, save_format='jpg'):\n",
    "                num_generated += 1\n",
    "                if num_generated >= num_new_images:\n",
    "                    break\n",
    "        if num_generated >= num_new_images:\n",
    "            break\n"
   ]
  },
  {
   "cell_type": "code",
   "execution_count": 13,
   "metadata": {},
   "outputs": [
    {
     "name": "stdout",
     "output_type": "stream",
     "text": [
      "Class Normal balanced to 3500 images.\n",
      "Class Pneumonia-Bacterial balanced to 3500 images.\n",
      "Class Pneumonia-Viral balanced to 3500 images.\n",
      "Class COVID-19 balanced to 3500 images.\n"
     ]
    }
   ],
   "source": [
    "target_count = 3500  # Adjust as needed\n",
    "\n",
    "for cls in classes:\n",
    "    class_dir = os.path.join(dataset_path, cls)\n",
    "    images = [os.path.join(class_dir, fname) for fname in os.listdir(class_dir)]\n",
    "    current_count = len(images)\n",
    "    save_dir = os.path.join(output_path, cls)\n",
    "    os.makedirs(save_dir, exist_ok=True)\n",
    "    \n",
    "    # Copy existing images\n",
    "    for img_path in images:\n",
    "        shutil.copy(img_path, save_dir)\n",
    "    \n",
    "    # Augment images if needed\n",
    "    if current_count < target_count:\n",
    "        num_new_images = target_count - current_count\n",
    "        augment_images(images, num_new_images, save_dir)\n",
    "    elif current_count > target_count:\n",
    "        # Randomly select images to match target_count\n",
    "        images_to_keep = random.sample(images, target_count)\n",
    "        for img_path in images:\n",
    "            if img_path not in images_to_keep:\n",
    "                os.remove(os.path.join(save_dir, os.path.basename(img_path)))\n",
    "    \n",
    "    print(f\"Class {cls} balanced to {target_count} images.\")\n"
   ]
  },
  {
   "cell_type": "code",
   "execution_count": 14,
   "metadata": {},
   "outputs": [],
   "source": [
    "train_dir = os.path.join(output_path, 'train')\n",
    "val_dir = os.path.join(output_path, 'validation')\n",
    "test_dir = os.path.join(output_path, 'test')\n",
    "\n",
    "for cls in classes:\n",
    "    class_dir = os.path.join(output_path, cls)\n",
    "    images = [os.path.join(class_dir, fname) for fname in os.listdir(class_dir)]\n",
    "    \n",
    "    train_images, temp_images = train_test_split(images, test_size=0.3, random_state=42)\n",
    "    val_images, test_images = train_test_split(temp_images, test_size=0.5, random_state=42)\n",
    "    \n",
    "    # Function to copy images to destination\n",
    "    def copy_images(image_list, destination):\n",
    "        dest_dir = os.path.join(destination, cls)\n",
    "        os.makedirs(dest_dir, exist_ok=True)\n",
    "        for img_path in image_list:\n",
    "            shutil.move(img_path, os.path.join(dest_dir, os.path.basename(img_path)))\n",
    "    \n",
    "    copy_images(train_images, train_dir)\n",
    "    copy_images(val_images, val_dir)\n",
    "    copy_images(test_images, test_dir)\n"
   ]
  },
  {
   "cell_type": "markdown",
   "metadata": {},
   "source": [
    "##  Creating Generators"
   ]
  },
  {
   "cell_type": "code",
   "execution_count": 15,
   "metadata": {},
   "outputs": [],
   "source": [
    "from tensorflow.keras.preprocessing.image import ImageDataGenerator"
   ]
  },
  {
   "cell_type": "code",
   "execution_count": 16,
   "metadata": {},
   "outputs": [],
   "source": [
    "img_height, img_width = 224, 224  # Input size for the model\n",
    "batch_size = 32\n",
    "\n",
    "train_datagen = ImageDataGenerator(\n",
    "    rescale=1./255,\n",
    "    rotation_range=15,\n",
    "    width_shift_range=0.05,\n",
    "    height_shift_range=0.05,\n",
    "    shear_range=0.05,\n",
    "    zoom_range=0.05,\n",
    "    horizontal_flip=True,\n",
    "    fill_mode='nearest'\n",
    ")\n",
    "\n",
    "val_test_datagen = ImageDataGenerator(rescale=1./255)\n"
   ]
  },
  {
   "cell_type": "code",
   "execution_count": 17,
   "metadata": {},
   "outputs": [
    {
     "name": "stdout",
     "output_type": "stream",
     "text": [
      "Found 36413 images belonging to 4 classes.\n",
      "Found 9607 images belonging to 4 classes.\n",
      "Found 9618 images belonging to 4 classes.\n"
     ]
    }
   ],
   "source": [
    "train_generator = train_datagen.flow_from_directory(\n",
    "    train_dir,\n",
    "    target_size=(img_height, img_width),\n",
    "    batch_size=batch_size,\n",
    "    class_mode='categorical'\n",
    ")\n",
    "\n",
    "validation_generator = val_test_datagen.flow_from_directory(\n",
    "    val_dir,\n",
    "    target_size=(img_height, img_width),\n",
    "    batch_size=batch_size,\n",
    "    class_mode='categorical'\n",
    ")\n",
    "\n",
    "test_generator = val_test_datagen.flow_from_directory(\n",
    "    test_dir,\n",
    "    target_size=(img_height, img_width),\n",
    "    batch_size=batch_size,\n",
    "    class_mode='categorical',\n",
    "    shuffle=False  # Important for evaluation\n",
    ")\n"
   ]
  },
  {
   "cell_type": "markdown",
   "metadata": {},
   "source": [
    "## Model"
   ]
  },
  {
   "cell_type": "code",
   "execution_count": 18,
   "metadata": {},
   "outputs": [],
   "source": [
    "import tensorflow as tf\n",
    "from tensorflow.keras.applications import DenseNet121\n",
    "from tensorflow.keras.layers import GlobalAveragePooling2D, Dense, Dropout\n",
    "from tensorflow.keras.models import Model"
   ]
  },
  {
   "cell_type": "code",
   "execution_count": 14,
   "metadata": {},
   "outputs": [
    {
     "name": "stderr",
     "output_type": "stream",
     "text": [
      "2024-11-16 12:58:32.877889: I metal_plugin/src/device/metal_device.cc:1154] Metal device set to: Apple M2\n",
      "2024-11-16 12:58:32.878005: I metal_plugin/src/device/metal_device.cc:296] systemMemory: 8.00 GB\n",
      "2024-11-16 12:58:32.878383: I metal_plugin/src/device/metal_device.cc:313] maxCacheSize: 2.67 GB\n",
      "2024-11-16 12:58:32.879046: I tensorflow/core/common_runtime/pluggable_device/pluggable_device_factory.cc:305] Could not identify NUMA node of platform GPU ID 0, defaulting to 0. Your kernel may not have been built with NUMA support.\n",
      "2024-11-16 12:58:32.880468: I tensorflow/core/common_runtime/pluggable_device/pluggable_device_factory.cc:271] Created TensorFlow device (/job:localhost/replica:0/task:0/device:GPU:0 with 0 MB memory) -> physical PluggableDevice (device: 0, name: METAL, pci bus id: <undefined>)\n"
     ]
    }
   ],
   "source": [
    "base_model = DenseNet121(weights='imagenet', include_top=False, input_shape=(img_height, img_width, 3))\n",
    "\n",
    "# Freeze the base model\n",
    "base_model.trainable = False"
   ]
  },
  {
   "cell_type": "code",
   "execution_count": 15,
   "metadata": {},
   "outputs": [],
   "source": [
    "x = base_model.output\n",
    "x = GlobalAveragePooling2D()(x)\n",
    "x = Dropout(0.5)(x)\n",
    "predictions = Dense(len(classes), activation='softmax')(x)\n",
    "model = Model(inputs=base_model.input, outputs=predictions)"
   ]
  },
  {
   "cell_type": "code",
   "execution_count": 16,
   "metadata": {},
   "outputs": [],
   "source": [
    "model.compile(optimizer=tf.keras.optimizers.Adam(learning_rate=1e-4),\n",
    "              loss='categorical_crossentropy',\n",
    "              metrics=['accuracy'])\n"
   ]
  },
  {
   "cell_type": "markdown",
   "metadata": {},
   "source": [
    "## Training the Model"
   ]
  },
  {
   "cell_type": "code",
   "execution_count": 4,
   "metadata": {},
   "outputs": [],
   "source": [
    "from tensorflow.keras.callbacks import EarlyStopping, ModelCheckpoint, ReduceLROnPlateau\n",
    "\n",
    "#'best_model.h5' = '/Users/apple/Desktop/PG/SEM-3/BIOS-511/bios-final'\n",
    "checkpoint = ModelCheckpoint('best_model.keras', monitor='val_accuracy', verbose=1, save_best_only=True, mode='max')\n",
    "earlystop = EarlyStopping(monitor='val_accuracy', patience=5, verbose=1, restore_best_weights=True)\n",
    "reduce_lr = ReduceLROnPlateau(monitor='val_loss', factor=0.2, patience=3, verbose=1, min_lr=1e-6)\n",
    "\n",
    "callbacks_list = [checkpoint, earlystop, reduce_lr]"
   ]
  },
  {
   "cell_type": "code",
   "execution_count": null,
   "metadata": {},
   "outputs": [],
   "source": [
    "epochs = 20\n",
    "\n",
    "history = model.fit(\n",
    "    train_generator,\n",
    "    steps_per_epoch=train_generator.samples // batch_size,\n",
    "    validation_data=validation_generator,\n",
    "    validation_steps=validation_generator.samples // batch_size,\n",
    "    epochs=epochs,\n",
    "    callbacks=callbacks_list\n",
    ")"
   ]
  },
  {
   "cell_type": "markdown",
   "metadata": {},
   "source": [
    "## Finetuning the Model"
   ]
  },
  {
   "cell_type": "code",
   "execution_count": null,
   "metadata": {},
   "outputs": [],
   "source": [
    "# Unfreeze the last 10 layers\n",
    "for layer in base_model.layers[-10:]:\n",
    "    layer.trainable = True"
   ]
  },
  {
   "cell_type": "code",
   "execution_count": 21,
   "metadata": {},
   "outputs": [],
   "source": [
    "model.compile(optimizer=tf.keras.optimizers.Adam(learning_rate=1e-5),\n",
    "              loss='categorical_crossentropy',\n",
    "              metrics=['accuracy'])"
   ]
  },
  {
   "cell_type": "code",
   "execution_count": 23,
   "metadata": {},
   "outputs": [
    {
     "name": "stdout",
     "output_type": "stream",
     "text": [
      "Epoch 1/10\n",
      "\u001b[1m843/843\u001b[0m \u001b[32m━━━━━━━━━━━━━━━━━━━━\u001b[0m\u001b[37m\u001b[0m \u001b[1m0s\u001b[0m 413ms/step - accuracy: 0.7851 - loss: 0.5802\n",
      "Epoch 1: val_accuracy did not improve from 1.00000\n",
      "\u001b[1m843/843\u001b[0m \u001b[32m━━━━━━━━━━━━━━━━━━━━\u001b[0m\u001b[37m\u001b[0m \u001b[1m423s\u001b[0m 500ms/step - accuracy: 0.7851 - loss: 0.5802 - val_accuracy: 0.8394 - val_loss: 0.4233 - learning_rate: 1.0000e-05\n",
      "Epoch 2/10\n",
      "\u001b[1m  1/843\u001b[0m \u001b[37m━━━━━━━━━━━━━━━━━━━━\u001b[0m \u001b[1m8:12\u001b[0m 584ms/step - accuracy: 0.8125 - loss: 0.4457"
     ]
    },
    {
     "name": "stderr",
     "output_type": "stream",
     "text": [
      "2024-11-16 14:06:42.081612: W tensorflow/core/framework/local_rendezvous.cc:404] Local rendezvous is aborting with status: OUT_OF_RANGE: End of sequence\n",
      "\t [[{{node IteratorGetNext}}]]\n",
      "2024-11-16 14:06:42.082096: W tensorflow/core/framework/local_rendezvous.cc:404] Local rendezvous is aborting with status: OUT_OF_RANGE: End of sequence\n",
      "\t [[{{node IteratorGetNext}}]]\n",
      "\t [[IteratorGetNext/_28]]\n",
      "2024-11-16 14:06:42.082107: I tensorflow/core/framework/local_rendezvous.cc:422] Local rendezvous recv item cancelled. Key hash: 15493292508196795018\n",
      "2024-11-16 14:06:42.082114: I tensorflow/core/framework/local_rendezvous.cc:422] Local rendezvous recv item cancelled. Key hash: 2114060958068334981\n",
      "2024-11-16 14:06:42.082118: I tensorflow/core/framework/local_rendezvous.cc:422] Local rendezvous recv item cancelled. Key hash: 10087472060832846742\n",
      "2024-11-16 14:06:42.082126: I tensorflow/core/framework/local_rendezvous.cc:422] Local rendezvous recv item cancelled. Key hash: 1219400841391432914\n",
      "2024-11-16 14:06:42.082130: I tensorflow/core/framework/local_rendezvous.cc:422] Local rendezvous recv item cancelled. Key hash: 7382416354531992314\n",
      "2024-11-16 14:06:42.082134: I tensorflow/core/framework/local_rendezvous.cc:422] Local rendezvous recv item cancelled. Key hash: 11424449285797311451\n",
      "2024-11-16 14:06:42.082138: I tensorflow/core/framework/local_rendezvous.cc:422] Local rendezvous recv item cancelled. Key hash: 12471945852644815881\n",
      "2024-11-16 14:06:42.082144: I tensorflow/core/framework/local_rendezvous.cc:422] Local rendezvous recv item cancelled. Key hash: 5955176570405197087\n",
      "2024-11-16 14:06:42.082150: I tensorflow/core/framework/local_rendezvous.cc:422] Local rendezvous recv item cancelled. Key hash: 7416024089636964975\n",
      "2024-11-16 14:06:42.082158: I tensorflow/core/framework/local_rendezvous.cc:422] Local rendezvous recv item cancelled. Key hash: 14192549069846313923\n",
      "2024-11-16 14:06:42.082161: I tensorflow/core/framework/local_rendezvous.cc:422] Local rendezvous recv item cancelled. Key hash: 16443184640119565113\n",
      "2024-11-16 14:06:42.082164: I tensorflow/core/framework/local_rendezvous.cc:422] Local rendezvous recv item cancelled. Key hash: 2070599265976880895\n",
      "2024-11-16 14:06:42.082359: I tensorflow/core/framework/local_rendezvous.cc:422] Local rendezvous recv item cancelled. Key hash: 1564698404303689252\n",
      "2024-11-16 14:06:42.082370: I tensorflow/core/framework/local_rendezvous.cc:422] Local rendezvous recv item cancelled. Key hash: 9173325387083425470\n",
      "2024-11-16 14:06:43.127328: W tensorflow/core/framework/local_rendezvous.cc:404] Local rendezvous is aborting with status: OUT_OF_RANGE: End of sequence\n",
      "\t [[{{node IteratorGetNext}}]]\n",
      "2024-11-16 14:06:43.127358: I tensorflow/core/framework/local_rendezvous.cc:422] Local rendezvous recv item cancelled. Key hash: 6953876900275818966\n",
      "2024-11-16 14:06:43.128238: W tensorflow/core/framework/local_rendezvous.cc:404] Local rendezvous is aborting with status: OUT_OF_RANGE: End of sequence\n",
      "\t [[{{node IteratorGetNext}}]]\n",
      "\t [[IteratorGetNext/_2]]\n"
     ]
    },
    {
     "name": "stdout",
     "output_type": "stream",
     "text": [
      "\n",
      "Epoch 2: val_accuracy did not improve from 1.00000\n",
      "\u001b[1m843/843\u001b[0m \u001b[32m━━━━━━━━━━━━━━━━━━━━\u001b[0m\u001b[37m\u001b[0m \u001b[1m3s\u001b[0m 2ms/step - accuracy: 0.8125 - loss: 0.4457 - val_accuracy: 1.0000 - val_loss: 0.0834 - learning_rate: 1.0000e-05\n",
      "Epoch 3/10\n",
      "\u001b[1m843/843\u001b[0m \u001b[32m━━━━━━━━━━━━━━━━━━━━\u001b[0m\u001b[37m\u001b[0m \u001b[1m0s\u001b[0m 381ms/step - accuracy: 0.7910 - loss: 0.5548\n",
      "Epoch 3: val_accuracy did not improve from 1.00000\n",
      "\u001b[1m843/843\u001b[0m \u001b[32m━━━━━━━━━━━━━━━━━━━━\u001b[0m\u001b[37m\u001b[0m \u001b[1m387s\u001b[0m 457ms/step - accuracy: 0.7910 - loss: 0.5548 - val_accuracy: 0.8412 - val_loss: 0.4112 - learning_rate: 1.0000e-05\n",
      "Epoch 4/10\n",
      "\u001b[1m  1/843\u001b[0m \u001b[37m━━━━━━━━━━━━━━━━━━━━\u001b[0m \u001b[1m6:38\u001b[0m 474ms/step - accuracy: 0.7500 - loss: 0.6136"
     ]
    },
    {
     "name": "stderr",
     "output_type": "stream",
     "text": [
      "2024-11-16 14:13:11.871014: W tensorflow/core/framework/local_rendezvous.cc:404] Local rendezvous is aborting with status: OUT_OF_RANGE: End of sequence\n",
      "\t [[{{node IteratorGetNext}}]]\n",
      "2024-11-16 14:13:11.871903: W tensorflow/core/framework/local_rendezvous.cc:404] Local rendezvous is aborting with status: OUT_OF_RANGE: End of sequence\n",
      "\t [[{{node IteratorGetNext}}]]\n",
      "\t [[IteratorGetNext/_28]]\n",
      "2024-11-16 14:13:11.872547: I tensorflow/core/framework/local_rendezvous.cc:422] Local rendezvous recv item cancelled. Key hash: 15493292508196795018\n",
      "2024-11-16 14:13:11.872579: I tensorflow/core/framework/local_rendezvous.cc:422] Local rendezvous recv item cancelled. Key hash: 2114060958068334981\n",
      "2024-11-16 14:13:11.872585: I tensorflow/core/framework/local_rendezvous.cc:422] Local rendezvous recv item cancelled. Key hash: 10087472060832846742\n",
      "2024-11-16 14:13:11.872595: I tensorflow/core/framework/local_rendezvous.cc:422] Local rendezvous recv item cancelled. Key hash: 1219400841391432914\n",
      "2024-11-16 14:13:11.872600: I tensorflow/core/framework/local_rendezvous.cc:422] Local rendezvous recv item cancelled. Key hash: 11424449285797311451\n",
      "2024-11-16 14:13:11.872605: I tensorflow/core/framework/local_rendezvous.cc:422] Local rendezvous recv item cancelled. Key hash: 7382416354531992314\n",
      "2024-11-16 14:13:11.872608: I tensorflow/core/framework/local_rendezvous.cc:422] Local rendezvous recv item cancelled. Key hash: 12471945852644815881\n",
      "2024-11-16 14:13:11.872614: I tensorflow/core/framework/local_rendezvous.cc:422] Local rendezvous recv item cancelled. Key hash: 5955176570405197087\n",
      "2024-11-16 14:13:11.872616: I tensorflow/core/framework/local_rendezvous.cc:422] Local rendezvous recv item cancelled. Key hash: 1564698404303689252\n",
      "2024-11-16 14:13:11.872622: I tensorflow/core/framework/local_rendezvous.cc:422] Local rendezvous recv item cancelled. Key hash: 7416024089636964975\n",
      "2024-11-16 14:13:11.872625: I tensorflow/core/framework/local_rendezvous.cc:422] Local rendezvous recv item cancelled. Key hash: 9173325387083425470\n",
      "2024-11-16 14:13:11.872652: I tensorflow/core/framework/local_rendezvous.cc:422] Local rendezvous recv item cancelled. Key hash: 14192549069846313923\n",
      "2024-11-16 14:13:11.872656: I tensorflow/core/framework/local_rendezvous.cc:422] Local rendezvous recv item cancelled. Key hash: 16443184640119565113\n",
      "2024-11-16 14:13:11.872661: I tensorflow/core/framework/local_rendezvous.cc:422] Local rendezvous recv item cancelled. Key hash: 2070599265976880895\n",
      "2024-11-16 14:13:12.477848: W tensorflow/core/framework/local_rendezvous.cc:404] Local rendezvous is aborting with status: OUT_OF_RANGE: End of sequence\n",
      "\t [[{{node IteratorGetNext}}]]\n",
      "2024-11-16 14:13:12.477879: I tensorflow/core/framework/local_rendezvous.cc:422] Local rendezvous recv item cancelled. Key hash: 6953876900275818966\n",
      "2024-11-16 14:13:12.477928: W tensorflow/core/framework/local_rendezvous.cc:404] Local rendezvous is aborting with status: OUT_OF_RANGE: End of sequence\n",
      "\t [[{{node IteratorGetNext}}]]\n",
      "\t [[IteratorGetNext/_2]]\n"
     ]
    },
    {
     "name": "stdout",
     "output_type": "stream",
     "text": [
      "\n",
      "Epoch 4: val_accuracy did not improve from 1.00000\n",
      "\u001b[1m843/843\u001b[0m \u001b[32m━━━━━━━━━━━━━━━━━━━━\u001b[0m\u001b[37m\u001b[0m \u001b[1m1s\u001b[0m 1ms/step - accuracy: 0.7500 - loss: 0.6136 - val_accuracy: 0.9375 - val_loss: 0.1905 - learning_rate: 1.0000e-05\n",
      "Epoch 5/10\n",
      "\u001b[1m843/843\u001b[0m \u001b[32m━━━━━━━━━━━━━━━━━━━━\u001b[0m\u001b[37m\u001b[0m \u001b[1m0s\u001b[0m 386ms/step - accuracy: 0.7934 - loss: 0.5449\n",
      "Epoch 5: val_accuracy did not improve from 1.00000\n",
      "\n",
      "Epoch 5: ReduceLROnPlateau reducing learning rate to 1.9999999494757505e-06.\n",
      "\u001b[1m843/843\u001b[0m \u001b[32m━━━━━━━━━━━━━━━━━━━━\u001b[0m\u001b[37m\u001b[0m \u001b[1m390s\u001b[0m 461ms/step - accuracy: 0.7934 - loss: 0.5449 - val_accuracy: 0.8453 - val_loss: 0.3993 - learning_rate: 1.0000e-05\n",
      "Epoch 5: early stopping\n",
      "Restoring model weights from the end of the best epoch: 1.\n"
     ]
    }
   ],
   "source": [
    "history_fine = model.fit(\n",
    "    train_generator,\n",
    "    steps_per_epoch=train_generator.samples // batch_size,\n",
    "    validation_data=validation_generator,\n",
    "    validation_steps=validation_generator.samples // batch_size,\n",
    "    epochs=10,\n",
    "    callbacks=callbacks_list\n",
    ")"
   ]
  },
  {
   "cell_type": "markdown",
   "metadata": {},
   "source": [
    "## Evaluating Results"
   ]
  },
  {
   "cell_type": "code",
   "execution_count": 24,
   "metadata": {},
   "outputs": [
    {
     "data": {
      "image/png": "[encoded data removed]",
      "text/plain": [
       "<Figure size 1200x400 with 2 Axes>"
      ]
     },
     "metadata": {},
     "output_type": "display_data"
    }
   ],
   "source": [
    "import matplotlib.pyplot as plt\n",
    "\n",
    "def plot_history(history):\n",
    "    acc = history.history.get('accuracy', []) + history_fine.history.get('accuracy', [])\n",
    "    val_acc = history.history.get('val_accuracy', []) + history_fine.history.get('val_accuracy', [])\n",
    "    loss = history.history.get('loss', []) + history_fine.history.get('loss', [])\n",
    "    val_loss = history.history.get('val_loss', []) + history_fine.history.get('val_loss', [])\n",
    "    \n",
    "    epochs_range = range(len(acc))\n",
    "    \n",
    "    plt.figure(figsize=(12, 4))\n",
    "    plt.subplot(1, 2, 1)\n",
    "    plt.plot(epochs_range, acc, label='Training Accuracy')\n",
    "    plt.plot(epochs_range, val_acc, label='Validation Accuracy')\n",
    "    plt.legend(loc='lower right')\n",
    "    plt.title('Training and Validation Accuracy')\n",
    "    \n",
    "    plt.subplot(1, 2, 2)\n",
    "    plt.plot(epochs_range, loss, label='Training Loss')\n",
    "    plt.plot(epochs_range, val_loss, label='Validation Loss')\n",
    "    plt.legend(loc='upper right')\n",
    "    plt.title('Training and Validation Loss')\n",
    "    plt.show()\n",
    "\n",
    "plot_history(history)\n"
   ]
  },
  {
   "cell_type": "code",
   "execution_count": 25,
   "metadata": {},
   "outputs": [
    {
     "name": "stderr",
     "output_type": "stream",
     "text": [
      "/Users/apple/Library/Python/3.9/lib/python/site-packages/keras/src/trainers/data_adapters/py_dataset_adapter.py:120: UserWarning: Your `PyDataset` class should call `super().__init__(**kwargs)` in its constructor. `**kwargs` can include `workers`, `use_multiprocessing`, `max_queue_size`. Do not pass these arguments to `fit()`, as they will be ignored.\n",
      "  self._warn_if_super_not_called()\n"
     ]
    },
    {
     "name": "stdout",
     "output_type": "stream",
     "text": [
      "\u001b[1m206/206\u001b[0m \u001b[32m━━━━━━━━━━━━━━━━━━━━\u001b[0m\u001b[37m\u001b[0m \u001b[1m68s\u001b[0m 326ms/step - accuracy: 0.9316 - loss: 0.2032\n",
      "Test Accuracy: 0.84\n"
     ]
    }
   ],
   "source": [
    "# Evaluating based on the test dataset\n",
    "test_loss, test_acc = model.evaluate(test_generator, steps=test_generator.samples // batch_size)\n",
    "print(f'Test Accuracy: {test_acc:.2f}')\n"
   ]
  },
  {
   "cell_type": "code",
   "execution_count": 26,
   "metadata": {},
   "outputs": [
    {
     "name": "stdout",
     "output_type": "stream",
     "text": [
      "\u001b[1m207/207\u001b[0m \u001b[32m━━━━━━━━━━━━━━━━━━━━\u001b[0m\u001b[37m\u001b[0m \u001b[1m71s\u001b[0m 314ms/step\n",
      "Classification Report\n",
      "                     precision    recall  f1-score   support\n",
      "\n",
      "           COVID-19       0.97      0.97      0.97      1331\n",
      "             Normal       0.88      0.95      0.91      1939\n",
      "Pneumonia-Bacterial       0.75      0.78      0.77      1884\n",
      "    Pneumonia-Viral       0.76      0.63      0.68      1441\n",
      "\n",
      "           accuracy                           0.84      6595\n",
      "          macro avg       0.84      0.83      0.83      6595\n",
      "       weighted avg       0.83      0.84      0.83      6595\n",
      "\n"
     ]
    },
    {
     "data": {
      "image/png": "[encoded data removed]",
      "text/plain": [
       "<Figure size 800x600 with 2 Axes>"
      ]
     },
     "metadata": {},
     "output_type": "display_data"
    }
   ],
   "source": [
    "from sklearn.metrics import classification_report, confusion_matrix\n",
    "import numpy as np\n",
    "import seaborn as sns\n",
    "\n",
    "# Predict the labels of the test set\n",
    "Y_pred = model.predict(test_generator, steps=test_generator.samples // batch_size+1)\n",
    "y_pred = np.argmax(Y_pred, axis=1)\n",
    "\n",
    "# True labels\n",
    "y_true = test_generator.classes\n",
    "\n",
    "# Classification Report\n",
    "print('Classification Report')\n",
    "target_names = list(train_generator.class_indices.keys())\n",
    "print(classification_report(y_true, y_pred, target_names=target_names))\n",
    "\n",
    "# Confusion Matrix\n",
    "cm = confusion_matrix(y_true, y_pred)\n",
    "plt.figure(figsize=(8,6))\n",
    "sns.heatmap(cm, annot=True, fmt='d', xticklabels=target_names, yticklabels=target_names)\n",
    "plt.ylabel('Actual')\n",
    "plt.xlabel('Predicted')\n",
    "plt.show()\n"
   ]
  },
  {
   "cell_type": "markdown",
   "metadata": {},
   "source": [
    "## Saving the Model"
   ]
  },
  {
   "cell_type": "code",
   "execution_count": 27,
   "metadata": {},
   "outputs": [],
   "source": [
    "model.save('pneumonia_classifier_final.keras')"
   ]
  },
  {
   "cell_type": "markdown",
   "metadata": {},
   "source": [
    "## Future steps: Model Interpretability with Grad-CAM"
   ]
  },
  {
   "cell_type": "code",
   "execution_count": 20,
   "metadata": {},
   "outputs": [],
   "source": [
    "import cv2\n",
    "import tensorflow.keras.backend as K\n",
    "\n",
    "def make_gradcam_heatmap(img_array, model, last_conv_layer_name, pred_index=None):\n",
    "    # Create a model that maps the input image to the activations\n",
    "    grad_model = tf.keras.models.Model(\n",
    "        [model.inputs], [model.get_layer(last_conv_layer_name).output, model.output]\n",
    "    )\n",
    "    # Compute the gradient of the top predicted class\n",
    "    with tf.GradientTape() as tape:\n",
    "        conv_outputs, predictions = grad_model(img_array)\n",
    "        if pred_index is None:\n",
    "            pred_index = tf.argmax(predictions[0])\n",
    "        loss = predictions[:, pred_index]\n",
    "    # Compute gradients\n",
    "    grads = tape.gradient(loss, conv_outputs)\n",
    "    # Pool the gradients\n",
    "    pooled_grads = tf.reduce_mean(grads, axis=(0, 1, 2))\n",
    "    # Multiply each channel\n",
    "    conv_outputs = conv_outputs[0]\n",
    "    heatmap = conv_outputs @ pooled_grads[..., tf.newaxis]\n",
    "    heatmap = tf.squeeze(heatmap)\n",
    "    # Apply ReLU and normalize\n",
    "    heatmap = tf.maximum(heatmap, 0) / tf.math.reduce_max(heatmap)\n",
    "    return heatmap.numpy()\n"
   ]
  },
  {
   "cell_type": "code",
   "execution_count": 21,
   "metadata": {},
   "outputs": [
    {
     "ename": "NameError",
     "evalue": "name 'model' is not defined",
     "output_type": "error",
     "traceback": [
      "\u001b[0;31m---------------------------------------------------------------------------\u001b[0m",
      "\u001b[0;31mNameError\u001b[0m                                 Traceback (most recent call last)",
      "Cell \u001b[0;32mIn[21], line 12\u001b[0m\n\u001b[1;32m     10\u001b[0m \u001b[38;5;66;03m# Generate Grad-CAM heatmap\u001b[39;00m\n\u001b[1;32m     11\u001b[0m last_conv_layer_name \u001b[38;5;241m=\u001b[39m \u001b[38;5;124m'\u001b[39m\u001b[38;5;124mconv5_block16_concat\u001b[39m\u001b[38;5;124m'\u001b[39m  \u001b[38;5;66;03m# Layer name in DenseNet121\u001b[39;00m\n\u001b[0;32m---> 12\u001b[0m heatmap \u001b[38;5;241m=\u001b[39m make_gradcam_heatmap(img_array, \u001b[43mmodel\u001b[49m, last_conv_layer_name)\n\u001b[1;32m     14\u001b[0m \u001b[38;5;66;03m# Display heatmap\u001b[39;00m\n\u001b[1;32m     15\u001b[0m plt\u001b[38;5;241m.\u001b[39mmatshow(heatmap)\n",
      "\u001b[0;31mNameError\u001b[0m: name 'model' is not defined"
     ]
    }
   ],
   "source": [
    "# Using function with a sample image\n",
    "import matplotlib.cm as cm\n",
    "\n",
    "# Load an image from the test set\n",
    "img_path = test_generator.filepaths[0]\n",
    "img = tf.keras.preprocessing.image.load_img(img_path, target_size=(img_height, img_width))\n",
    "img_array = tf.keras.preprocessing.image.img_to_array(img)\n",
    "img_array = np.expand_dims(img_array, axis=0) / 255.0\n",
    "\n",
    "# Generate Grad-CAM heatmap\n",
    "last_conv_layer_name = 'conv5_block16_concat'  # Layer name in DenseNet121\n",
    "heatmap = make_gradcam_heatmap(img_array, model, last_conv_layer_name)\n",
    "\n",
    "# Display heatmap\n",
    "plt.matshow(heatmap)\n",
    "plt.show()\n",
    "\n",
    "# Superimpose heatmap on the image\n",
    "img = cv2.imread(img_path)\n",
    "heatmap = cv2.resize(heatmap, (img.shape[1], img.shape[0]))\n",
    "heatmap = np.uint8(255 * heatmap)\n",
    "heatmap_color = cv2.applyColorMap(heatmap, cv2.COLORMAP_JET)\n",
    "superimposed_img = heatmap_color * 0.4 + img\n",
    "cv2.imwrite('gradcam.jpg', superimposed_img)\n"
   ]
  },
  {
   "cell_type": "markdown",
   "metadata": {},
   "source": [
    "## Adding External Images from Internet "
   ]
  },
  {
   "cell_type": "code",
   "execution_count": 22,
   "metadata": {},
   "outputs": [],
   "source": [
    "import numpy as np\n",
    "import tensorflow as tf\n",
    "from tensorflow.keras.preprocessing import image\n",
    "from tensorflow.keras.models import load_model"
   ]
  },
  {
   "cell_type": "code",
   "execution_count": null,
   "metadata": {},
   "outputs": [
    {
     "ename": "ValueError",
     "evalue": "A total of 236 objects could not be loaded. Example error message for object <Conv2D name=conv1_conv, built=True>:\n\nLayer 'conv1_conv' expected 2 variables, but received 1 variables during loading. Expected: ['kernel', 'kernel']\n\nList of objects that could not be loaded:\n[<Conv2D name=conv1_conv, built=True>, <BatchNormalization name=conv1_bn, built=True>, <BatchNormalization name=conv2_block1_0_bn, built=True>, <Conv2D name=conv2_block1_1_conv, built=True>, <BatchNormalization name=conv2_block1_1_bn, built=True>, <Conv2D name=conv2_block1_2_conv, built=True>, <BatchNormalization name=conv2_block2_0_bn, built=True>, <Conv2D name=conv2_block2_1_conv, built=True>, <BatchNormalization name=conv2_block2_1_bn, built=True>, <Conv2D name=conv2_block2_2_conv, built=True>, <BatchNormalization name=conv2_block3_0_bn, built=True>, <Conv2D name=conv2_block3_1_conv, built=True>, <BatchNormalization name=conv2_block3_1_bn, built=True>, <Conv2D name=conv2_block3_2_conv, built=True>, <BatchNormalization name=conv2_block4_0_bn, built=True>, <Conv2D name=conv2_block4_1_conv, built=True>, <BatchNormalization name=conv2_block4_1_bn, built=True>, <Conv2D name=conv2_block4_2_conv, built=True>, <BatchNormalization name=conv2_block5_0_bn, built=True>, <Conv2D name=conv2_block5_1_conv, built=True>, <BatchNormalization name=conv2_block5_1_bn, built=True>, <Conv2D name=conv2_block5_2_conv, built=True>, <BatchNormalization name=conv2_block6_0_bn, built=True>, <Conv2D name=conv2_block6_1_conv, built=True>, <BatchNormalization name=conv2_block6_1_bn, built=True>, <Conv2D name=conv2_block6_2_conv, built=True>, <BatchNormalization name=pool2_bn, built=True>, <Conv2D name=pool2_conv, built=True>, <BatchNormalization name=conv3_block1_0_bn, built=True>, <Conv2D name=conv3_block1_1_conv, built=True>, <BatchNormalization name=conv3_block1_1_bn, built=True>, <Conv2D name=conv3_block1_2_conv, built=True>, <BatchNormalization name=conv3_block2_0_bn, built=True>, <Conv2D name=conv3_block2_1_conv, built=True>, <BatchNormalization name=conv3_block2_1_bn, built=True>, <Conv2D name=conv3_block2_2_conv, built=True>, <BatchNormalization name=conv3_block3_0_bn, built=True>, <Conv2D name=conv3_block3_1_conv, built=True>, <BatchNormalization name=conv3_block3_1_bn, built=True>, <Conv2D name=conv3_block3_2_conv, built=True>, <BatchNormalization name=conv3_block4_0_bn, built=True>, <Conv2D name=conv3_block4_1_conv, built=True>, <BatchNormalization name=conv3_block4_1_bn, built=True>, <Conv2D name=conv3_block4_2_conv, built=True>, <BatchNormalization name=conv3_block5_0_bn, built=True>, <Conv2D name=conv3_block5_1_conv, built=True>, <BatchNormalization name=conv3_block5_1_bn, built=True>, <Conv2D name=conv3_block5_2_conv, built=True>, <BatchNormalization name=conv3_block6_0_bn, built=True>, <Conv2D name=conv3_block6_1_conv, built=True>, <BatchNormalization name=conv3_block6_1_bn, built=True>, <Conv2D name=conv3_block6_2_conv, built=True>, <BatchNormalization name=conv3_block7_0_bn, built=True>, <Conv2D name=conv3_block7_1_conv, built=True>, <BatchNormalization name=conv3_block7_1_bn, built=True>, <Conv2D name=conv3_block7_2_conv, built=True>, <BatchNormalization name=conv3_block8_0_bn, built=True>, <Conv2D name=conv3_block8_1_conv, built=True>, <BatchNormalization name=conv3_block8_1_bn, built=True>, <Conv2D name=conv3_block8_2_conv, built=True>, <BatchNormalization name=conv3_block9_0_bn, built=True>, <Conv2D name=conv3_block9_1_conv, built=True>, <BatchNormalization name=conv3_block9_1_bn, built=True>, <Conv2D name=conv3_block9_2_conv, built=True>, <BatchNormalization name=conv3_block10_0_bn, built=True>, <Conv2D name=conv3_block10_1_conv, built=True>, <BatchNormalization name=conv3_block10_1_bn, built=True>, <Conv2D name=conv3_block10_2_conv, built=True>, <BatchNormalization name=conv3_block11_0_bn, built=True>, <Conv2D name=conv3_block11_1_conv, built=True>, <BatchNormalization name=conv3_block11_1_bn, built=True>, <Conv2D name=conv3_block11_2_conv, built=True>, <BatchNormalization name=conv3_block12_0_bn, built=True>, <Conv2D name=conv3_block12_1_conv, built=True>, <BatchNormalization name=conv3_block12_1_bn, built=True>, <Conv2D name=conv3_block12_2_conv, built=True>, <BatchNormalization name=pool3_bn, built=True>, <Conv2D name=pool3_conv, built=True>, <BatchNormalization name=conv4_block1_0_bn, built=True>, <Conv2D name=conv4_block1_1_conv, built=True>, <BatchNormalization name=conv4_block1_1_bn, built=True>, <Conv2D name=conv4_block1_2_conv, built=True>, <BatchNormalization name=conv4_block2_0_bn, built=True>, <Conv2D name=conv4_block2_1_conv, built=True>, <BatchNormalization name=conv4_block2_1_bn, built=True>, <Conv2D name=conv4_block2_2_conv, built=True>, <BatchNormalization name=conv4_block3_0_bn, built=True>, <Conv2D name=conv4_block3_1_conv, built=True>, <BatchNormalization name=conv4_block3_1_bn, built=True>, <Conv2D name=conv4_block3_2_conv, built=True>, <BatchNormalization name=conv4_block4_0_bn, built=True>, <Conv2D name=conv4_block4_1_conv, built=True>, <BatchNormalization name=conv4_block4_1_bn, built=True>, <Conv2D name=conv4_block4_2_conv, built=True>, <BatchNormalization name=conv4_block5_0_bn, built=True>, <Conv2D name=conv4_block5_1_conv, built=True>, <BatchNormalization name=conv4_block5_1_bn, built=True>, <Conv2D name=conv4_block5_2_conv, built=True>, <BatchNormalization name=conv4_block6_0_bn, built=True>, <Conv2D name=conv4_block6_1_conv, built=True>, <BatchNormalization name=conv4_block6_1_bn, built=True>, <Conv2D name=conv4_block6_2_conv, built=True>, <BatchNormalization name=conv4_block7_0_bn, built=True>, <Conv2D name=conv4_block7_1_conv, built=True>, <BatchNormalization name=conv4_block7_1_bn, built=True>, <Conv2D name=conv4_block7_2_conv, built=True>, <BatchNormalization name=conv4_block8_0_bn, built=True>, <Conv2D name=conv4_block8_1_conv, built=True>, <BatchNormalization name=conv4_block8_1_bn, built=True>, <Conv2D name=conv4_block8_2_conv, built=True>, <BatchNormalization name=conv4_block9_0_bn, built=True>, <Conv2D name=conv4_block9_1_conv, built=True>, <BatchNormalization name=conv4_block9_1_bn, built=True>, <Conv2D name=conv4_block9_2_conv, built=True>, <BatchNormalization name=conv4_block10_0_bn, built=True>, <Conv2D name=conv4_block10_1_conv, built=True>, <BatchNormalization name=conv4_block10_1_bn, built=True>, <Conv2D name=conv4_block10_2_conv, built=True>, <BatchNormalization name=conv4_block11_0_bn, built=True>, <Conv2D name=conv4_block11_1_conv, built=True>, <BatchNormalization name=conv4_block11_1_bn, built=True>, <Conv2D name=conv4_block11_2_conv, built=True>, <BatchNormalization name=conv4_block12_0_bn, built=True>, <Conv2D name=conv4_block12_1_conv, built=True>, <BatchNormalization name=conv4_block12_1_bn, built=True>, <Conv2D name=conv4_block12_2_conv, built=True>, <BatchNormalization name=conv4_block13_0_bn, built=True>, <Conv2D name=conv4_block13_1_conv, built=True>, <BatchNormalization name=conv4_block13_1_bn, built=True>, <Conv2D name=conv4_block13_2_conv, built=True>, <BatchNormalization name=conv4_block14_0_bn, built=True>, <Conv2D name=conv4_block14_1_conv, built=True>, <BatchNormalization name=conv4_block14_1_bn, built=True>, <Conv2D name=conv4_block14_2_conv, built=True>, <BatchNormalization name=conv4_block15_0_bn, built=True>, <Conv2D name=conv4_block15_1_conv, built=True>, <BatchNormalization name=conv4_block15_1_bn, built=True>, <Conv2D name=conv4_block15_2_conv, built=True>, <BatchNormalization name=conv4_block16_0_bn, built=True>, <Conv2D name=conv4_block16_1_conv, built=True>, <BatchNormalization name=conv4_block16_1_bn, built=True>, <Conv2D name=conv4_block16_2_conv, built=True>, <BatchNormalization name=conv4_block17_0_bn, built=True>, <Conv2D name=conv4_block17_1_conv, built=True>, <BatchNormalization name=conv4_block17_1_bn, built=True>, <Conv2D name=conv4_block17_2_conv, built=True>, <BatchNormalization name=conv4_block18_0_bn, built=True>, <Conv2D name=conv4_block18_1_conv, built=True>, <BatchNormalization name=conv4_block18_1_bn, built=True>, <Conv2D name=conv4_block18_2_conv, built=True>, <BatchNormalization name=conv4_block19_0_bn, built=True>, <Conv2D name=conv4_block19_1_conv, built=True>, <BatchNormalization name=conv4_block19_1_bn, built=True>, <Conv2D name=conv4_block19_2_conv, built=True>, <BatchNormalization name=conv4_block20_0_bn, built=True>, <Conv2D name=conv4_block20_1_conv, built=True>, <BatchNormalization name=conv4_block20_1_bn, built=True>, <Conv2D name=conv4_block20_2_conv, built=True>, <BatchNormalization name=conv4_block21_0_bn, built=True>, <Conv2D name=conv4_block21_1_conv, built=True>, <BatchNormalization name=conv4_block21_1_bn, built=True>, <Conv2D name=conv4_block21_2_conv, built=True>, <BatchNormalization name=conv4_block22_0_bn, built=True>, <Conv2D name=conv4_block22_1_conv, built=True>, <BatchNormalization name=conv4_block22_1_bn, built=True>, <Conv2D name=conv4_block22_2_conv, built=True>, <BatchNormalization name=conv4_block23_0_bn, built=True>, <Conv2D name=conv4_block23_1_conv, built=True>, <BatchNormalization name=conv4_block23_1_bn, built=True>, <Conv2D name=conv4_block23_2_conv, built=True>, <BatchNormalization name=conv4_block24_0_bn, built=True>, <Conv2D name=conv4_block24_1_conv, built=True>, <BatchNormalization name=conv4_block24_1_bn, built=True>, <Conv2D name=conv4_block24_2_conv, built=True>, <BatchNormalization name=pool4_bn, built=True>, <Conv2D name=pool4_conv, built=True>, <BatchNormalization name=conv5_block1_0_bn, built=True>, <Conv2D name=conv5_block1_1_conv, built=True>, <BatchNormalization name=conv5_block1_1_bn, built=True>, <Conv2D name=conv5_block1_2_conv, built=True>, <BatchNormalization name=conv5_block2_0_bn, built=True>, <Conv2D name=conv5_block2_1_conv, built=True>, <BatchNormalization name=conv5_block2_1_bn, built=True>, <Conv2D name=conv5_block2_2_conv, built=True>, <BatchNormalization name=conv5_block3_0_bn, built=True>, <Conv2D name=conv5_block3_1_conv, built=True>, <BatchNormalization name=conv5_block3_1_bn, built=True>, <Conv2D name=conv5_block3_2_conv, built=True>, <BatchNormalization name=conv5_block4_0_bn, built=True>, <Conv2D name=conv5_block4_1_conv, built=True>, <BatchNormalization name=conv5_block4_1_bn, built=True>, <Conv2D name=conv5_block4_2_conv, built=True>, <BatchNormalization name=conv5_block5_0_bn, built=True>, <Conv2D name=conv5_block5_1_conv, built=True>, <BatchNormalization name=conv5_block5_1_bn, built=True>, <Conv2D name=conv5_block5_2_conv, built=True>, <BatchNormalization name=conv5_block6_0_bn, built=True>, <Conv2D name=conv5_block6_1_conv, built=True>, <BatchNormalization name=conv5_block6_1_bn, built=True>, <Conv2D name=conv5_block6_2_conv, built=True>, <BatchNormalization name=conv5_block7_0_bn, built=True>, <Conv2D name=conv5_block7_1_conv, built=True>, <BatchNormalization name=conv5_block7_1_bn, built=True>, <Conv2D name=conv5_block7_2_conv, built=True>, <BatchNormalization name=conv5_block8_0_bn, built=True>, <Conv2D name=conv5_block8_1_conv, built=True>, <BatchNormalization name=conv5_block8_1_bn, built=True>, <Conv2D name=conv5_block8_2_conv, built=True>, <BatchNormalization name=conv5_block9_0_bn, built=True>, <Conv2D name=conv5_block9_1_conv, built=True>, <BatchNormalization name=conv5_block9_1_bn, built=True>, <Conv2D name=conv5_block9_2_conv, built=True>, <BatchNormalization name=conv5_block10_0_bn, built=True>, <Conv2D name=conv5_block10_1_conv, built=True>, <BatchNormalization name=conv5_block10_1_bn, built=True>, <Conv2D name=conv5_block10_2_conv, built=True>, <BatchNormalization name=conv5_block11_0_bn, built=True>, <Conv2D name=conv5_block11_1_conv, built=True>, <BatchNormalization name=conv5_block11_1_bn, built=True>, <Conv2D name=conv5_block11_2_conv, built=True>, <BatchNormalization name=conv5_block12_0_bn, built=True>, <Conv2D name=conv5_block12_1_conv, built=True>, <BatchNormalization name=conv5_block12_1_bn, built=True>, <Conv2D name=conv5_block12_2_conv, built=True>, <BatchNormalization name=conv5_block13_0_bn, built=True>, <Conv2D name=conv5_block13_1_conv, built=True>, <BatchNormalization name=conv5_block13_1_bn, built=True>, <Conv2D name=conv5_block13_2_conv, built=True>, <BatchNormalization name=conv5_block14_0_bn, built=True>, <Conv2D name=conv5_block14_1_conv, built=True>, <BatchNormalization name=conv5_block14_1_bn, built=True>, <Conv2D name=conv5_block14_2_conv, built=True>, <BatchNormalization name=conv5_block15_0_bn, built=True>, <Conv2D name=conv5_block15_1_conv, built=True>, <BatchNormalization name=conv5_block15_1_bn, built=True>, <Conv2D name=conv5_block15_2_conv, built=True>]",
     "output_type": "error",
     "traceback": [
      "\u001b[0;31m---------------------------------------------------------------------------\u001b[0m",
      "\u001b[0;31mValueError\u001b[0m                                Traceback (most recent call last)",
      "Cell \u001b[0;32mIn[24], line 2\u001b[0m\n\u001b[1;32m      1\u001b[0m \u001b[38;5;66;03m# Load your trained model\u001b[39;00m\n\u001b[0;32m----> 2\u001b[0m model \u001b[38;5;241m=\u001b[39m \u001b[43mload_model\u001b[49m\u001b[43m(\u001b[49m\u001b[38;5;124;43m'\u001b[39;49m\u001b[38;5;124;43mpneumonia_classifier_final.keras\u001b[39;49m\u001b[38;5;124;43m'\u001b[39;49m\u001b[43m)\u001b[49m\n\u001b[1;32m      4\u001b[0m \u001b[38;5;66;03m# Get class labels from the training generator\u001b[39;00m\n\u001b[1;32m      5\u001b[0m \u001b[38;5;66;03m#class_labels = list(train_generator.class_indices.keys())\u001b[39;00m\n",
      "File \u001b[0;32m~/Library/Python/3.9/lib/python/site-packages/keras/src/saving/saving_api.py:176\u001b[0m, in \u001b[0;36mload_model\u001b[0;34m(filepath, custom_objects, compile, safe_mode)\u001b[0m\n\u001b[1;32m    173\u001b[0m         is_keras_zip \u001b[38;5;241m=\u001b[39m \u001b[38;5;28;01mTrue\u001b[39;00m\n\u001b[1;32m    175\u001b[0m \u001b[38;5;28;01mif\u001b[39;00m is_keras_zip:\n\u001b[0;32m--> 176\u001b[0m     \u001b[38;5;28;01mreturn\u001b[39;00m \u001b[43msaving_lib\u001b[49m\u001b[38;5;241;43m.\u001b[39;49m\u001b[43mload_model\u001b[49m\u001b[43m(\u001b[49m\n\u001b[1;32m    177\u001b[0m \u001b[43m        \u001b[49m\u001b[43mfilepath\u001b[49m\u001b[43m,\u001b[49m\n\u001b[1;32m    178\u001b[0m \u001b[43m        \u001b[49m\u001b[43mcustom_objects\u001b[49m\u001b[38;5;241;43m=\u001b[39;49m\u001b[43mcustom_objects\u001b[49m\u001b[43m,\u001b[49m\n\u001b[1;32m    179\u001b[0m \u001b[43m        \u001b[49m\u001b[38;5;28;43mcompile\u001b[39;49m\u001b[38;5;241;43m=\u001b[39;49m\u001b[38;5;28;43mcompile\u001b[39;49m\u001b[43m,\u001b[49m\n\u001b[1;32m    180\u001b[0m \u001b[43m        \u001b[49m\u001b[43msafe_mode\u001b[49m\u001b[38;5;241;43m=\u001b[39;49m\u001b[43msafe_mode\u001b[49m\u001b[43m,\u001b[49m\n\u001b[1;32m    181\u001b[0m \u001b[43m    \u001b[49m\u001b[43m)\u001b[49m\n\u001b[1;32m    182\u001b[0m \u001b[38;5;28;01mif\u001b[39;00m \u001b[38;5;28mstr\u001b[39m(filepath)\u001b[38;5;241m.\u001b[39mendswith((\u001b[38;5;124m\"\u001b[39m\u001b[38;5;124m.h5\u001b[39m\u001b[38;5;124m\"\u001b[39m, \u001b[38;5;124m\"\u001b[39m\u001b[38;5;124m.hdf5\u001b[39m\u001b[38;5;124m\"\u001b[39m)):\n\u001b[1;32m    183\u001b[0m     \u001b[38;5;28;01mreturn\u001b[39;00m legacy_h5_format\u001b[38;5;241m.\u001b[39mload_model_from_hdf5(filepath)\n",
      "File \u001b[0;32m~/Library/Python/3.9/lib/python/site-packages/keras/src/saving/saving_lib.py:152\u001b[0m, in \u001b[0;36mload_model\u001b[0;34m(filepath, custom_objects, compile, safe_mode)\u001b[0m\n\u001b[1;32m    147\u001b[0m     \u001b[38;5;28;01mraise\u001b[39;00m \u001b[38;5;167;01mValueError\u001b[39;00m(\n\u001b[1;32m    148\u001b[0m         \u001b[38;5;124m\"\u001b[39m\u001b[38;5;124mInvalid filename: expected a `.keras` extension. \u001b[39m\u001b[38;5;124m\"\u001b[39m\n\u001b[1;32m    149\u001b[0m         \u001b[38;5;124mf\u001b[39m\u001b[38;5;124m\"\u001b[39m\u001b[38;5;124mReceived: filepath=\u001b[39m\u001b[38;5;132;01m{\u001b[39;00mfilepath\u001b[38;5;132;01m}\u001b[39;00m\u001b[38;5;124m\"\u001b[39m\n\u001b[1;32m    150\u001b[0m     )\n\u001b[1;32m    151\u001b[0m \u001b[38;5;28;01mwith\u001b[39;00m \u001b[38;5;28mopen\u001b[39m(filepath, \u001b[38;5;124m\"\u001b[39m\u001b[38;5;124mrb\u001b[39m\u001b[38;5;124m\"\u001b[39m) \u001b[38;5;28;01mas\u001b[39;00m f:\n\u001b[0;32m--> 152\u001b[0m     \u001b[38;5;28;01mreturn\u001b[39;00m \u001b[43m_load_model_from_fileobj\u001b[49m\u001b[43m(\u001b[49m\n\u001b[1;32m    153\u001b[0m \u001b[43m        \u001b[49m\u001b[43mf\u001b[49m\u001b[43m,\u001b[49m\u001b[43m \u001b[49m\u001b[43mcustom_objects\u001b[49m\u001b[43m,\u001b[49m\u001b[43m \u001b[49m\u001b[38;5;28;43mcompile\u001b[39;49m\u001b[43m,\u001b[49m\u001b[43m \u001b[49m\u001b[43msafe_mode\u001b[49m\n\u001b[1;32m    154\u001b[0m \u001b[43m    \u001b[49m\u001b[43m)\u001b[49m\n",
      "File \u001b[0;32m~/Library/Python/3.9/lib/python/site-packages/keras/src/saving/saving_lib.py:207\u001b[0m, in \u001b[0;36m_load_model_from_fileobj\u001b[0;34m(fileobj, custom_objects, compile, safe_mode)\u001b[0m\n\u001b[1;32m    204\u001b[0m         asset_store\u001b[38;5;241m.\u001b[39mclose()\n\u001b[1;32m    206\u001b[0m     \u001b[38;5;28;01mif\u001b[39;00m failed_trackables:\n\u001b[0;32m--> 207\u001b[0m         \u001b[43m_raise_loading_failure\u001b[49m\u001b[43m(\u001b[49m\u001b[43merror_msgs\u001b[49m\u001b[43m)\u001b[49m\n\u001b[1;32m    208\u001b[0m \u001b[38;5;28;01mreturn\u001b[39;00m model\n",
      "File \u001b[0;32m~/Library/Python/3.9/lib/python/site-packages/keras/src/saving/saving_lib.py:295\u001b[0m, in \u001b[0;36m_raise_loading_failure\u001b[0;34m(error_msgs, warn_only)\u001b[0m\n\u001b[1;32m    293\u001b[0m     warnings\u001b[38;5;241m.\u001b[39mwarn(msg)\n\u001b[1;32m    294\u001b[0m \u001b[38;5;28;01melse\u001b[39;00m:\n\u001b[0;32m--> 295\u001b[0m     \u001b[38;5;28;01mraise\u001b[39;00m \u001b[38;5;167;01mValueError\u001b[39;00m(msg)\n",
      "\u001b[0;31mValueError\u001b[0m: A total of 236 objects could not be loaded. Example error message for object <Conv2D name=conv1_conv, built=True>:\n\nLayer 'conv1_conv' expected 2 variables, but received 1 variables during loading. Expected: ['kernel', 'kernel']\n\nList of objects that could not be loaded:\n[<Conv2D name=conv1_conv, built=True>, <BatchNormalization name=conv1_bn, built=True>, <BatchNormalization name=conv2_block1_0_bn, built=True>, <Conv2D name=conv2_block1_1_conv, built=True>, <BatchNormalization name=conv2_block1_1_bn, built=True>, <Conv2D name=conv2_block1_2_conv, built=True>, <BatchNormalization name=conv2_block2_0_bn, built=True>, <Conv2D name=conv2_block2_1_conv, built=True>, <BatchNormalization name=conv2_block2_1_bn, built=True>, <Conv2D name=conv2_block2_2_conv, built=True>, <BatchNormalization name=conv2_block3_0_bn, built=True>, <Conv2D name=conv2_block3_1_conv, built=True>, <BatchNormalization name=conv2_block3_1_bn, built=True>, <Conv2D name=conv2_block3_2_conv, built=True>, <BatchNormalization name=conv2_block4_0_bn, built=True>, <Conv2D name=conv2_block4_1_conv, built=True>, <BatchNormalization name=conv2_block4_1_bn, built=True>, <Conv2D name=conv2_block4_2_conv, built=True>, <BatchNormalization name=conv2_block5_0_bn, built=True>, <Conv2D name=conv2_block5_1_conv, built=True>, <BatchNormalization name=conv2_block5_1_bn, built=True>, <Conv2D name=conv2_block5_2_conv, built=True>, <BatchNormalization name=conv2_block6_0_bn, built=True>, <Conv2D name=conv2_block6_1_conv, built=True>, <BatchNormalization name=conv2_block6_1_bn, built=True>, <Conv2D name=conv2_block6_2_conv, built=True>, <BatchNormalization name=pool2_bn, built=True>, <Conv2D name=pool2_conv, built=True>, <BatchNormalization name=conv3_block1_0_bn, built=True>, <Conv2D name=conv3_block1_1_conv, built=True>, <BatchNormalization name=conv3_block1_1_bn, built=True>, <Conv2D name=conv3_block1_2_conv, built=True>, <BatchNormalization name=conv3_block2_0_bn, built=True>, <Conv2D name=conv3_block2_1_conv, built=True>, <BatchNormalization name=conv3_block2_1_bn, built=True>, <Conv2D name=conv3_block2_2_conv, built=True>, <BatchNormalization name=conv3_block3_0_bn, built=True>, <Conv2D name=conv3_block3_1_conv, built=True>, <BatchNormalization name=conv3_block3_1_bn, built=True>, <Conv2D name=conv3_block3_2_conv, built=True>, <BatchNormalization name=conv3_block4_0_bn, built=True>, <Conv2D name=conv3_block4_1_conv, built=True>, <BatchNormalization name=conv3_block4_1_bn, built=True>, <Conv2D name=conv3_block4_2_conv, built=True>, <BatchNormalization name=conv3_block5_0_bn, built=True>, <Conv2D name=conv3_block5_1_conv, built=True>, <BatchNormalization name=conv3_block5_1_bn, built=True>, <Conv2D name=conv3_block5_2_conv, built=True>, <BatchNormalization name=conv3_block6_0_bn, built=True>, <Conv2D name=conv3_block6_1_conv, built=True>, <BatchNormalization name=conv3_block6_1_bn, built=True>, <Conv2D name=conv3_block6_2_conv, built=True>, <BatchNormalization name=conv3_block7_0_bn, built=True>, <Conv2D name=conv3_block7_1_conv, built=True>, <BatchNormalization name=conv3_block7_1_bn, built=True>, <Conv2D name=conv3_block7_2_conv, built=True>, <BatchNormalization name=conv3_block8_0_bn, built=True>, <Conv2D name=conv3_block8_1_conv, built=True>, <BatchNormalization name=conv3_block8_1_bn, built=True>, <Conv2D name=conv3_block8_2_conv, built=True>, <BatchNormalization name=conv3_block9_0_bn, built=True>, <Conv2D name=conv3_block9_1_conv, built=True>, <BatchNormalization name=conv3_block9_1_bn, built=True>, <Conv2D name=conv3_block9_2_conv, built=True>, <BatchNormalization name=conv3_block10_0_bn, built=True>, <Conv2D name=conv3_block10_1_conv, built=True>, <BatchNormalization name=conv3_block10_1_bn, built=True>, <Conv2D name=conv3_block10_2_conv, built=True>, <BatchNormalization name=conv3_block11_0_bn, built=True>, <Conv2D name=conv3_block11_1_conv, built=True>, <BatchNormalization name=conv3_block11_1_bn, built=True>, <Conv2D name=conv3_block11_2_conv, built=True>, <BatchNormalization name=conv3_block12_0_bn, built=True>, <Conv2D name=conv3_block12_1_conv, built=True>, <BatchNormalization name=conv3_block12_1_bn, built=True>, <Conv2D name=conv3_block12_2_conv, built=True>, <BatchNormalization name=pool3_bn, built=True>, <Conv2D name=pool3_conv, built=True>, <BatchNormalization name=conv4_block1_0_bn, built=True>, <Conv2D name=conv4_block1_1_conv, built=True>, <BatchNormalization name=conv4_block1_1_bn, built=True>, <Conv2D name=conv4_block1_2_conv, built=True>, <BatchNormalization name=conv4_block2_0_bn, built=True>, <Conv2D name=conv4_block2_1_conv, built=True>, <BatchNormalization name=conv4_block2_1_bn, built=True>, <Conv2D name=conv4_block2_2_conv, built=True>, <BatchNormalization name=conv4_block3_0_bn, built=True>, <Conv2D name=conv4_block3_1_conv, built=True>, <BatchNormalization name=conv4_block3_1_bn, built=True>, <Conv2D name=conv4_block3_2_conv, built=True>, <BatchNormalization name=conv4_block4_0_bn, built=True>, <Conv2D name=conv4_block4_1_conv, built=True>, <BatchNormalization name=conv4_block4_1_bn, built=True>, <Conv2D name=conv4_block4_2_conv, built=True>, <BatchNormalization name=conv4_block5_0_bn, built=True>, <Conv2D name=conv4_block5_1_conv, built=True>, <BatchNormalization name=conv4_block5_1_bn, built=True>, <Conv2D name=conv4_block5_2_conv, built=True>, <BatchNormalization name=conv4_block6_0_bn, built=True>, <Conv2D name=conv4_block6_1_conv, built=True>, <BatchNormalization name=conv4_block6_1_bn, built=True>, <Conv2D name=conv4_block6_2_conv, built=True>, <BatchNormalization name=conv4_block7_0_bn, built=True>, <Conv2D name=conv4_block7_1_conv, built=True>, <BatchNormalization name=conv4_block7_1_bn, built=True>, <Conv2D name=conv4_block7_2_conv, built=True>, <BatchNormalization name=conv4_block8_0_bn, built=True>, <Conv2D name=conv4_block8_1_conv, built=True>, <BatchNormalization name=conv4_block8_1_bn, built=True>, <Conv2D name=conv4_block8_2_conv, built=True>, <BatchNormalization name=conv4_block9_0_bn, built=True>, <Conv2D name=conv4_block9_1_conv, built=True>, <BatchNormalization name=conv4_block9_1_bn, built=True>, <Conv2D name=conv4_block9_2_conv, built=True>, <BatchNormalization name=conv4_block10_0_bn, built=True>, <Conv2D name=conv4_block10_1_conv, built=True>, <BatchNormalization name=conv4_block10_1_bn, built=True>, <Conv2D name=conv4_block10_2_conv, built=True>, <BatchNormalization name=conv4_block11_0_bn, built=True>, <Conv2D name=conv4_block11_1_conv, built=True>, <BatchNormalization name=conv4_block11_1_bn, built=True>, <Conv2D name=conv4_block11_2_conv, built=True>, <BatchNormalization name=conv4_block12_0_bn, built=True>, <Conv2D name=conv4_block12_1_conv, built=True>, <BatchNormalization name=conv4_block12_1_bn, built=True>, <Conv2D name=conv4_block12_2_conv, built=True>, <BatchNormalization name=conv4_block13_0_bn, built=True>, <Conv2D name=conv4_block13_1_conv, built=True>, <BatchNormalization name=conv4_block13_1_bn, built=True>, <Conv2D name=conv4_block13_2_conv, built=True>, <BatchNormalization name=conv4_block14_0_bn, built=True>, <Conv2D name=conv4_block14_1_conv, built=True>, <BatchNormalization name=conv4_block14_1_bn, built=True>, <Conv2D name=conv4_block14_2_conv, built=True>, <BatchNormalization name=conv4_block15_0_bn, built=True>, <Conv2D name=conv4_block15_1_conv, built=True>, <BatchNormalization name=conv4_block15_1_bn, built=True>, <Conv2D name=conv4_block15_2_conv, built=True>, <BatchNormalization name=conv4_block16_0_bn, built=True>, <Conv2D name=conv4_block16_1_conv, built=True>, <BatchNormalization name=conv4_block16_1_bn, built=True>, <Conv2D name=conv4_block16_2_conv, built=True>, <BatchNormalization name=conv4_block17_0_bn, built=True>, <Conv2D name=conv4_block17_1_conv, built=True>, <BatchNormalization name=conv4_block17_1_bn, built=True>, <Conv2D name=conv4_block17_2_conv, built=True>, <BatchNormalization name=conv4_block18_0_bn, built=True>, <Conv2D name=conv4_block18_1_conv, built=True>, <BatchNormalization name=conv4_block18_1_bn, built=True>, <Conv2D name=conv4_block18_2_conv, built=True>, <BatchNormalization name=conv4_block19_0_bn, built=True>, <Conv2D name=conv4_block19_1_conv, built=True>, <BatchNormalization name=conv4_block19_1_bn, built=True>, <Conv2D name=conv4_block19_2_conv, built=True>, <BatchNormalization name=conv4_block20_0_bn, built=True>, <Conv2D name=conv4_block20_1_conv, built=True>, <BatchNormalization name=conv4_block20_1_bn, built=True>, <Conv2D name=conv4_block20_2_conv, built=True>, <BatchNormalization name=conv4_block21_0_bn, built=True>, <Conv2D name=conv4_block21_1_conv, built=True>, <BatchNormalization name=conv4_block21_1_bn, built=True>, <Conv2D name=conv4_block21_2_conv, built=True>, <BatchNormalization name=conv4_block22_0_bn, built=True>, <Conv2D name=conv4_block22_1_conv, built=True>, <BatchNormalization name=conv4_block22_1_bn, built=True>, <Conv2D name=conv4_block22_2_conv, built=True>, <BatchNormalization name=conv4_block23_0_bn, built=True>, <Conv2D name=conv4_block23_1_conv, built=True>, <BatchNormalization name=conv4_block23_1_bn, built=True>, <Conv2D name=conv4_block23_2_conv, built=True>, <BatchNormalization name=conv4_block24_0_bn, built=True>, <Conv2D name=conv4_block24_1_conv, built=True>, <BatchNormalization name=conv4_block24_1_bn, built=True>, <Conv2D name=conv4_block24_2_conv, built=True>, <BatchNormalization name=pool4_bn, built=True>, <Conv2D name=pool4_conv, built=True>, <BatchNormalization name=conv5_block1_0_bn, built=True>, <Conv2D name=conv5_block1_1_conv, built=True>, <BatchNormalization name=conv5_block1_1_bn, built=True>, <Conv2D name=conv5_block1_2_conv, built=True>, <BatchNormalization name=conv5_block2_0_bn, built=True>, <Conv2D name=conv5_block2_1_conv, built=True>, <BatchNormalization name=conv5_block2_1_bn, built=True>, <Conv2D name=conv5_block2_2_conv, built=True>, <BatchNormalization name=conv5_block3_0_bn, built=True>, <Conv2D name=conv5_block3_1_conv, built=True>, <BatchNormalization name=conv5_block3_1_bn, built=True>, <Conv2D name=conv5_block3_2_conv, built=True>, <BatchNormalization name=conv5_block4_0_bn, built=True>, <Conv2D name=conv5_block4_1_conv, built=True>, <BatchNormalization name=conv5_block4_1_bn, built=True>, <Conv2D name=conv5_block4_2_conv, built=True>, <BatchNormalization name=conv5_block5_0_bn, built=True>, <Conv2D name=conv5_block5_1_conv, built=True>, <BatchNormalization name=conv5_block5_1_bn, built=True>, <Conv2D name=conv5_block5_2_conv, built=True>, <BatchNormalization name=conv5_block6_0_bn, built=True>, <Conv2D name=conv5_block6_1_conv, built=True>, <BatchNormalization name=conv5_block6_1_bn, built=True>, <Conv2D name=conv5_block6_2_conv, built=True>, <BatchNormalization name=conv5_block7_0_bn, built=True>, <Conv2D name=conv5_block7_1_conv, built=True>, <BatchNormalization name=conv5_block7_1_bn, built=True>, <Conv2D name=conv5_block7_2_conv, built=True>, <BatchNormalization name=conv5_block8_0_bn, built=True>, <Conv2D name=conv5_block8_1_conv, built=True>, <BatchNormalization name=conv5_block8_1_bn, built=True>, <Conv2D name=conv5_block8_2_conv, built=True>, <BatchNormalization name=conv5_block9_0_bn, built=True>, <Conv2D name=conv5_block9_1_conv, built=True>, <BatchNormalization name=conv5_block9_1_bn, built=True>, <Conv2D name=conv5_block9_2_conv, built=True>, <BatchNormalization name=conv5_block10_0_bn, built=True>, <Conv2D name=conv5_block10_1_conv, built=True>, <BatchNormalization name=conv5_block10_1_bn, built=True>, <Conv2D name=conv5_block10_2_conv, built=True>, <BatchNormalization name=conv5_block11_0_bn, built=True>, <Conv2D name=conv5_block11_1_conv, built=True>, <BatchNormalization name=conv5_block11_1_bn, built=True>, <Conv2D name=conv5_block11_2_conv, built=True>, <BatchNormalization name=conv5_block12_0_bn, built=True>, <Conv2D name=conv5_block12_1_conv, built=True>, <BatchNormalization name=conv5_block12_1_bn, built=True>, <Conv2D name=conv5_block12_2_conv, built=True>, <BatchNormalization name=conv5_block13_0_bn, built=True>, <Conv2D name=conv5_block13_1_conv, built=True>, <BatchNormalization name=conv5_block13_1_bn, built=True>, <Conv2D name=conv5_block13_2_conv, built=True>, <BatchNormalization name=conv5_block14_0_bn, built=True>, <Conv2D name=conv5_block14_1_conv, built=True>, <BatchNormalization name=conv5_block14_1_bn, built=True>, <Conv2D name=conv5_block14_2_conv, built=True>, <BatchNormalization name=conv5_block15_0_bn, built=True>, <Conv2D name=conv5_block15_1_conv, built=True>, <BatchNormalization name=conv5_block15_1_bn, built=True>, <Conv2D name=conv5_block15_2_conv, built=True>]"
     ]
    }
   ],
   "source": [
    "# Load your trained model\n",
    "model = load_model('pneumonia_classifier_final.keras')\n",
    "\n",
    "# Get class labels from the training generator\n",
    "class_labels = list(train_generator.class_indices.keys())"
   ]
  },
  {
   "cell_type": "code",
   "execution_count": null,
   "metadata": {},
   "outputs": [],
   "source": [
    "# def predict_image(img_path):\n",
    "#     # Load and preprocess the image\n",
    "#     img = image.load_img(img_path, target_size=(img_height, img_width))\n",
    "#     img_array = image.img_to_array(img)\n",
    "#     img_array = np.expand_dims(img_array, axis=0) / 255.0  # Normalize the image\n",
    "\n",
    "#     # Make a prediction\n",
    "#     predictions = model.predict(img_array)\n",
    "#     predicted_class = np.argmax(predictions, axis=1)\n",
    "#     predicted_label = class_labels[predicted_class[0]]\n",
    "\n",
    "#     # Get confidence scores\n",
    "#     confidence_scores = predictions[0]\n",
    "\n",
    "#     # Print the results\n",
    "#     print(f\"Predicted Class: {predicted_label}\")\n",
    "#     print(\"Confidence Scores:\")\n",
    "#     for idx, score in enumerate(confidence_scores):\n",
    "#         print(f\"{class_labels[idx]}: {score:.4f}\")\n",
    "\n",
    "#     return predicted_label, confidence_scores\n",
    "def predict_image(img_path):\n",
    "    # Load and preprocess the image\n",
    "    img = image.load_img(img_path, target_size=(img_height, img_width))\n",
    "    img_array = image.img_to_array(img)\n",
    "    img_array = np.expand_dims(img_array, axis=0) / 255.0  # Normalize the image\n",
    "\n",
    "    # Make a prediction\n",
    "    predictions = model.predict(img_array)\n",
    "    predicted_class = np.argmax(predictions, axis=1)\n",
    "    predicted_label = class_labels[predicted_class[0]]\n",
    "\n",
    "    # Get confidence scores\n",
    "    confidence_scores = predictions[0]\n",
    "\n",
    "    return predicted_label, confidence_scores\n",
    "\n"
   ]
  },
  {
   "cell_type": "code",
   "execution_count": null,
   "metadata": {},
   "outputs": [],
   "source": [
    "img_path = '/Users/apple/Desktop/PG/SEM-3/BIOS-511/bios-final/virus-test.jpg'\n",
    "predicted_label, confidence_scores = predict_image(img_path)"
   ]
  },
  {
   "cell_type": "markdown",
   "metadata": {},
   "source": [
    "## Adding Feedback Loop "
   ]
  },
  {
   "cell_type": "code",
   "execution_count": null,
   "metadata": {},
   "outputs": [],
   "source": [
    "import os\n",
    "import shutil\n",
    "\n",
    "# Directory to store feedback data\n",
    "feedback_dir = 'feedback_data'\n",
    "\n",
    "def collect_feedback(img_path, correct_label):\n",
    "    # Create directory for the correct class if it doesn't exist\n",
    "    class_dir = os.path.join(feedback_dir, correct_label)\n",
    "    os.makedirs(class_dir, exist_ok=True)\n",
    "    \n",
    "    # Copy the image to the feedback directory\n",
    "    img_name = os.path.basename(img_path)\n",
    "    dest_path = os.path.join(class_dir, img_name)\n",
    "    shutil.copy(img_path, dest_path)\n",
    "    \n",
    "    print(f\"Feedback collected: {img_name} -> {correct_label}\")\n"
   ]
  },
  {
   "cell_type": "markdown",
   "metadata": {},
   "source": [
    "#### Keep changing as per test data"
   ]
  },
  {
   "cell_type": "code",
   "execution_count": null,
   "metadata": {},
   "outputs": [],
   "source": [
    "# Let's say the correct label is provided by the user\n",
    "correct_label = 'Pneumonia-Viral'\n",
    "collect_feedback(img_path, correct_label)\n"
   ]
  },
  {
   "cell_type": "markdown",
   "metadata": {},
   "source": [
    "#### Retraining code"
   ]
  },
  {
   "cell_type": "code",
   "execution_count": 4,
   "metadata": {},
   "outputs": [
    {
     "ename": "NameError",
     "evalue": "name 'ImageDataGenerator' is not defined",
     "output_type": "error",
     "traceback": [
      "\u001b[0;31m---------------------------------------------------------------------------\u001b[0m",
      "\u001b[0;31mNameError\u001b[0m                                 Traceback (most recent call last)",
      "Cell \u001b[0;32mIn[4], line 2\u001b[0m\n\u001b[1;32m      1\u001b[0m \u001b[38;5;66;03m# Include the feedback data in the training set\u001b[39;00m\n\u001b[0;32m----> 2\u001b[0m feedback_train_datagen \u001b[38;5;241m=\u001b[39m \u001b[43mImageDataGenerator\u001b[49m(\n\u001b[1;32m      3\u001b[0m     rescale\u001b[38;5;241m=\u001b[39m\u001b[38;5;241m1.\u001b[39m\u001b[38;5;241m/\u001b[39m\u001b[38;5;241m255\u001b[39m,\n\u001b[1;32m      4\u001b[0m     rotation_range\u001b[38;5;241m=\u001b[39m\u001b[38;5;241m15\u001b[39m,\n\u001b[1;32m      5\u001b[0m     width_shift_range\u001b[38;5;241m=\u001b[39m\u001b[38;5;241m0.05\u001b[39m,\n\u001b[1;32m      6\u001b[0m     height_shift_range\u001b[38;5;241m=\u001b[39m\u001b[38;5;241m0.05\u001b[39m,\n\u001b[1;32m      7\u001b[0m     shear_range\u001b[38;5;241m=\u001b[39m\u001b[38;5;241m0.05\u001b[39m,\n\u001b[1;32m      8\u001b[0m     zoom_range\u001b[38;5;241m=\u001b[39m\u001b[38;5;241m0.05\u001b[39m,\n\u001b[1;32m      9\u001b[0m     horizontal_flip\u001b[38;5;241m=\u001b[39m\u001b[38;5;28;01mTrue\u001b[39;00m,\n\u001b[1;32m     10\u001b[0m     fill_mode\u001b[38;5;241m=\u001b[39m\u001b[38;5;124m'\u001b[39m\u001b[38;5;124mnearest\u001b[39m\u001b[38;5;124m'\u001b[39m\n\u001b[1;32m     11\u001b[0m )\n\u001b[1;32m     13\u001b[0m \u001b[38;5;66;03m# Merge the original training data with feedback data\u001b[39;00m\n\u001b[1;32m     14\u001b[0m augmented_train_dir \u001b[38;5;241m=\u001b[39m \u001b[38;5;124m'\u001b[39m\u001b[38;5;124maugmented_train_data\u001b[39m\u001b[38;5;124m'\u001b[39m\n",
      "\u001b[0;31mNameError\u001b[0m: name 'ImageDataGenerator' is not defined"
     ]
    }
   ],
   "source": [
    "# Include the feedback data in the training set\n",
    "feedback_train_datagen = ImageDataGenerator(\n",
    "    rescale=1./255,\n",
    "    rotation_range=15,\n",
    "    width_shift_range=0.05,\n",
    "    height_shift_range=0.05,\n",
    "    shear_range=0.05,\n",
    "    zoom_range=0.05,\n",
    "    horizontal_flip=True,\n",
    "    fill_mode='nearest'\n",
    ")\n",
    "\n",
    "# Merge the original training data with feedback data\n",
    "augmented_train_dir = 'augmented_train_data'\n",
    "\n",
    "# Copy original training data to augmented training directory\n",
    "if not os.path.exists(augmented_train_dir):\n",
    "    shutil.copytree(train_dir, augmented_train_dir)\n",
    "else:\n",
    "    shutil.rmtree(augmented_train_dir)\n",
    "    shutil.copytree(train_dir, augmented_train_dir)\n",
    "\n",
    "# Copy feedback data to augmented training directory\n",
    "for cls in classes:\n",
    "    feedback_class_dir = os.path.join(feedback_dir, cls)\n",
    "    augmented_class_dir = os.path.join(augmented_train_dir, cls)\n",
    "    if os.path.exists(feedback_class_dir):\n",
    "        # Copy feedback images to the augmented training directory\n",
    "        for img_name in os.listdir(feedback_class_dir):\n",
    "            src_path = os.path.join(feedback_class_dir, img_name)\n",
    "            dest_path = os.path.join(augmented_class_dir, img_name)\n",
    "            shutil.copy(src_path, dest_path)\n"
   ]
  },
  {
   "cell_type": "code",
   "execution_count": null,
   "metadata": {},
   "outputs": [],
   "source": [
    "augmented_train_generator = feedback_train_datagen.flow_from_directory(\n",
    "    augmented_train_dir,\n",
    "    target_size=(img_height, img_width),\n",
    "    batch_size=batch_size,\n",
    "    class_mode='categorical'\n",
    ")"
   ]
  },
  {
   "cell_type": "code",
   "execution_count": null,
   "metadata": {},
   "outputs": [],
   "source": [
    "# Unfreeze some layers if necessary\n",
    "for layer in model.layers[-10:]:\n",
    "    layer.trainable = True\n",
    "\n",
    "# Recompile the model with a lower learning rate\n",
    "model.compile(optimizer=tf.keras.optimizers.Adam(learning_rate=1e-5),\n",
    "              loss='categorical_crossentropy',\n",
    "              metrics=['accuracy'])\n",
    "\n",
    "# Retrain the model\n",
    "epochs = 5  # Fewer epochs since we're fine-tuning\n",
    "history_feedback = model.fit(\n",
    "    augmented_train_generator,\n",
    "    steps_per_epoch=augmented_train_generator.samples // batch_size,\n",
    "    validation_data=validation_generator,\n",
    "    validation_steps=validation_generator.samples // batch_size,\n",
    "    epochs=epochs,\n",
    "    callbacks=callbacks_list\n",
    ")"
   ]
  },
  {
   "cell_type": "markdown",
   "metadata": {},
   "source": [
    "#### Automating the Feedback loop"
   ]
  },
  {
   "cell_type": "code",
   "execution_count": null,
   "metadata": {},
   "outputs": [],
   "source": [
    "def check_and_retrain(feedback_threshold=10):\n",
    "    # Count total feedback images\n",
    "    total_feedback = sum([len(files) for r, d, files in os.walk(feedback_dir)])\n",
    "    if total_feedback >= feedback_threshold:\n",
    "        print(\"Retraining the model with feedback data...\")\n",
    "        # Proceed with the steps to augment data and retrain the model\n",
    "        # (Code from previous sections)\n",
    "        # After retraining, clear the feedback directory\n",
    "        shutil.rmtree(feedback_dir)\n",
    "        os.makedirs(feedback_dir)"
   ]
  },
  {
   "cell_type": "code",
   "execution_count": null,
   "metadata": {},
   "outputs": [],
   "source": [
    "collect_feedback(img_path, correct_label)\n",
    "check_and_retrain(feedback_threshold=10)"
   ]
  },
  {
   "cell_type": "markdown",
   "metadata": {},
   "source": [
    "## Code for User Interface"
   ]
  },
  {
   "cell_type": "code",
   "execution_count": null,
   "metadata": {},
   "outputs": [],
   "source": [
    "#pip install flask"
   ]
  }
 ],
 "metadata": {
  "kernelspec": {
   "display_name": "Python 3",
   "language": "python",
   "name": "python3"
  },
  "language_info": {
   "codemirror_mode": {
    "name": "ipython",
    "version": 3
   },
   "file_extension": ".py",
   "mimetype": "text/x-python",
   "name": "python",
   "nbconvert_exporter": "python",
   "pygments_lexer": "ipython3",
   "version": "3.9.6"
  }
 },
 "nbformat": 4,
 "nbformat_minor": 2
}
