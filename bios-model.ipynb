{
 "cells": [
  {
   "cell_type": "code",
   "execution_count": null,
   "metadata": {},
   "outputs": [],
   "source": [
    "pip install kagglehub"
   ]
  },
  {
   "cell_type": "markdown",
   "metadata": {},
   "source": [
    "## Importing dataset"
   ]
  },
  {
   "cell_type": "code",
   "execution_count": 1,
   "metadata": {},
   "outputs": [
    {
     "name": "stdout",
     "output_type": "stream",
     "text": [
      "Found 9208 images in the dataset.\n",
      "Dataset successfully loaded from local repository.\n"
     ]
    }
   ],
   "source": [
    "import os\n",
    "from PIL import Image\n",
    "import glob\n",
    "\n",
    "# Specify the path to the dataset in your local repository\n",
    "dataset_path = '/Users/apple/Desktop/PG/SEM-3/BIOS-511/bios-final/data'\n",
    "\n",
    "# Check if the directory exists\n",
    "if not os.path.exists(dataset_path):\n",
    "    raise FileNotFoundError(f\"The specified path {dataset_path} does not exist.\")\n",
    "\n",
    "# List all image files in the directory (assuming jpg and png images)\n",
    "image_files = glob.glob(os.path.join(dataset_path, '**/*.jpg'), recursive=True)\n",
    "image_files += glob.glob(os.path.join(dataset_path, '**/*.png'), recursive=True)\n",
    "\n",
    "# Check if images are found\n",
    "if not image_files:\n",
    "    print(\"No images found in the specified directory.\")\n",
    "else:\n",
    "    print(f\"Found {len(image_files)} images in the dataset.\")\n",
    "\n",
    "# Load and display a sample image to confirm the dataset is accessible\n",
    "sample_image = Image.open(image_files[0])\n",
    "sample_image.show()  # Opens the first image in your default image viewer\n",
    "\n",
    "# Optional: Load all images (for further processing)\n",
    "images = [Image.open(img_path) for img_path in image_files]\n",
    "\n",
    "print(\"Dataset successfully loaded from local repository.\")\n"
   ]
  },
  {
   "cell_type": "code",
   "execution_count": 2,
   "metadata": {},
   "outputs": [],
   "source": [
    "import os\n",
    "import shutil\n",
    "import random\n",
    "import numpy as np\n",
    "from sklearn.model_selection import train_test_split\n",
    "from tensorflow.keras.preprocessing.image import ImageDataGenerator"
   ]
  },
  {
   "cell_type": "code",
   "execution_count": 3,
   "metadata": {},
   "outputs": [],
   "source": [
    "import os\n",
    "\n",
    "dataset_path = '/Users/apple/Desktop/PG/SEM-3/BIOS-511/bios-final/data'\n",
    "output_path = '/Users/apple/Desktop/PG/SEM-3/BIOS-511/bios-final/processed_data'\n",
    "\n",
    "if not os.path.exists(output_path):\n",
    "    os.makedirs(output_path)"
   ]
  },
  {
   "cell_type": "markdown",
   "metadata": {},
   "source": [
    "## Finetuning and Augmenting Dataset"
   ]
  },
  {
   "cell_type": "code",
   "execution_count": 4,
   "metadata": {},
   "outputs": [],
   "source": [
    "classes = ['Normal', 'Pneumonia-Bacterial', 'Pneumonia-Viral', 'COVID-19']"
   ]
  },
  {
   "cell_type": "code",
   "execution_count": 6,
   "metadata": {},
   "outputs": [
    {
     "name": "stdout",
     "output_type": "stream",
     "text": [
      "Class counts before balancing: {'Normal': 3270, 'Pneumonia-Bacterial': 3001, 'Pneumonia-Viral': 1656, 'COVID-19': 1281}\n"
     ]
    }
   ],
   "source": [
    "class_counts = {}\n",
    "for cls in classes:\n",
    "    class_dir = os.path.join(dataset_path, cls)\n",
    "    class_counts[cls] = len(os.listdir(class_dir))\n",
    "\n",
    "max_count = max(class_counts.values())\n",
    "print(\"Class counts before balancing:\", class_counts)"
   ]
  },
  {
   "cell_type": "code",
   "execution_count": 7,
   "metadata": {},
   "outputs": [],
   "source": [
    "def augment_images(image_paths, num_new_images, save_dir):\n",
    "    datagen = ImageDataGenerator(\n",
    "        rotation_range=15,\n",
    "        width_shift_range=0.05,\n",
    "        height_shift_range=0.05,\n",
    "        shear_range=0.05,\n",
    "        zoom_range=0.05,\n",
    "        horizontal_flip=True,\n",
    "        fill_mode='nearest'\n",
    "    )\n",
    "\n",
    "    num_generated = 0\n",
    "    while num_generated < num_new_images:\n",
    "        for img_path in image_paths:\n",
    "            img = Image.open(img_path)\n",
    "            img = img.resize((224, 224))\n",
    "            x = np.array(img)\n",
    "            x = x.reshape((1,) + x.shape)\n",
    "\n",
    "            prefix = os.path.splitext(os.path.basename(img_path))[0]\n",
    "            for batch in datagen.flow(x, batch_size=1, save_to_dir=save_dir, save_prefix=prefix, save_format='jpg'):\n",
    "                num_generated += 1\n",
    "                if num_generated >= num_new_images:\n",
    "                    break\n",
    "        if num_generated >= num_new_images:\n",
    "            break\n"
   ]
  },
  {
   "cell_type": "code",
   "execution_count": 8,
   "metadata": {},
   "outputs": [
    {
     "name": "stdout",
     "output_type": "stream",
     "text": [
      "Class Normal balanced to 3500 images.\n",
      "Class Pneumonia-Bacterial balanced to 3500 images.\n",
      "Class Pneumonia-Viral balanced to 3500 images.\n",
      "Class COVID-19 balanced to 3500 images.\n"
     ]
    }
   ],
   "source": [
    "target_count = 3500  # Adjust as needed\n",
    "\n",
    "for cls in classes:\n",
    "    class_dir = os.path.join(dataset_path, cls)\n",
    "    images = [os.path.join(class_dir, fname) for fname in os.listdir(class_dir)]\n",
    "    current_count = len(images)\n",
    "    save_dir = os.path.join(output_path, cls)\n",
    "    os.makedirs(save_dir, exist_ok=True)\n",
    "    \n",
    "    # Copy existing images\n",
    "    for img_path in images:\n",
    "        shutil.copy(img_path, save_dir)\n",
    "    \n",
    "    # Augment images if needed\n",
    "    if current_count < target_count:\n",
    "        num_new_images = target_count - current_count\n",
    "        augment_images(images, num_new_images, save_dir)\n",
    "    elif current_count > target_count:\n",
    "        # Randomly select images to match target_count\n",
    "        images_to_keep = random.sample(images, target_count)\n",
    "        for img_path in images:\n",
    "            if img_path not in images_to_keep:\n",
    "                os.remove(os.path.join(save_dir, os.path.basename(img_path)))\n",
    "    \n",
    "    print(f\"Class {cls} balanced to {target_count} images.\")\n"
   ]
  },
  {
   "cell_type": "code",
   "execution_count": 9,
   "metadata": {},
   "outputs": [],
   "source": [
    "train_dir = os.path.join(output_path, 'train')\n",
    "val_dir = os.path.join(output_path, 'validation')\n",
    "test_dir = os.path.join(output_path, 'test')\n",
    "\n",
    "for cls in classes:\n",
    "    class_dir = os.path.join(output_path, cls)\n",
    "    images = [os.path.join(class_dir, fname) for fname in os.listdir(class_dir)]\n",
    "    \n",
    "    train_images, temp_images = train_test_split(images, test_size=0.3, random_state=42)\n",
    "    val_images, test_images = train_test_split(temp_images, test_size=0.5, random_state=42)\n",
    "    \n",
    "    # Function to copy images to destination\n",
    "    def copy_images(image_list, destination):\n",
    "        dest_dir = os.path.join(destination, cls)\n",
    "        os.makedirs(dest_dir, exist_ok=True)\n",
    "        for img_path in image_list:\n",
    "            shutil.move(img_path, os.path.join(dest_dir, os.path.basename(img_path)))\n",
    "    \n",
    "    copy_images(train_images, train_dir)\n",
    "    copy_images(val_images, val_dir)\n",
    "    copy_images(test_images, test_dir)\n"
   ]
  },
  {
   "cell_type": "markdown",
   "metadata": {},
   "source": [
    "##  Creating Generators"
   ]
  },
  {
   "cell_type": "code",
   "execution_count": 10,
   "metadata": {},
   "outputs": [],
   "source": [
    "from tensorflow.keras.preprocessing.image import ImageDataGenerator"
   ]
  },
  {
   "cell_type": "code",
   "execution_count": 11,
   "metadata": {},
   "outputs": [],
   "source": [
    "img_height, img_width = 224, 224  # Input size for the model\n",
    "batch_size = 32\n",
    "\n",
    "train_datagen = ImageDataGenerator(\n",
    "    rescale=1./255,\n",
    "    rotation_range=15,\n",
    "    width_shift_range=0.05,\n",
    "    height_shift_range=0.05,\n",
    "    shear_range=0.05,\n",
    "    zoom_range=0.05,\n",
    "    horizontal_flip=True,\n",
    "    fill_mode='nearest'\n",
    ")\n",
    "\n",
    "val_test_datagen = ImageDataGenerator(rescale=1./255)\n"
   ]
  },
  {
   "cell_type": "code",
   "execution_count": 12,
   "metadata": {},
   "outputs": [
    {
     "name": "stdout",
     "output_type": "stream",
     "text": [
      "Found 15950 images belonging to 4 classes.\n",
      "Found 3419 images belonging to 4 classes.\n",
      "Found 3420 images belonging to 4 classes.\n"
     ]
    }
   ],
   "source": [
    "train_generator = train_datagen.flow_from_directory(\n",
    "    train_dir,\n",
    "    target_size=(img_height, img_width),\n",
    "    batch_size=batch_size,\n",
    "    class_mode='categorical'\n",
    ")\n",
    "\n",
    "validation_generator = val_test_datagen.flow_from_directory(\n",
    "    val_dir,\n",
    "    target_size=(img_height, img_width),\n",
    "    batch_size=batch_size,\n",
    "    class_mode='categorical'\n",
    ")\n",
    "\n",
    "test_generator = val_test_datagen.flow_from_directory(\n",
    "    test_dir,\n",
    "    target_size=(img_height, img_width),\n",
    "    batch_size=batch_size,\n",
    "    class_mode='categorical',\n",
    "    shuffle=False  # Important for evaluation\n",
    ")\n"
   ]
  },
  {
   "cell_type": "markdown",
   "metadata": {},
   "source": [
    "## Model"
   ]
  },
  {
   "cell_type": "code",
   "execution_count": null,
   "metadata": {},
   "outputs": [],
   "source": []
  },
  {
   "cell_type": "code",
   "execution_count": null,
   "metadata": {},
   "outputs": [],
   "source": []
  }
 ],
 "metadata": {
  "kernelspec": {
   "display_name": "Python 3",
   "language": "python",
   "name": "python3"
  },
  "language_info": {
   "codemirror_mode": {
    "name": "ipython",
    "version": 3
   },
   "file_extension": ".py",
   "mimetype": "text/x-python",
   "name": "python",
   "nbconvert_exporter": "python",
   "pygments_lexer": "ipython3",
   "version": "3.9.6"
  }
 },
 "nbformat": 4,
 "nbformat_minor": 2
}
